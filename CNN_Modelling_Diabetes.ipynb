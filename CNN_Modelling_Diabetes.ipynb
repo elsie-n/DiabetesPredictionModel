{
 "cells": [
  {
   "cell_type": "code",
   "execution_count": 1,
   "metadata": {
    "id": "bURNyx3B59Bm"
   },
   "outputs": [],
   "source": [
    "#Importiong the libraries\n",
    "import pandas as pd\n",
    "import numpy as np\n",
    "\n",
    "#Importing the modelling libraries\n",
    "from sklearn.model_selection import train_test_split\n",
    "from sklearn.preprocessing import MinMaxScaler, LabelEncoder\n",
    "from sklearn.metrics import precision_score, recall_score, f1_score\n",
    "from sklearn.model_selection import KFold\n",
    "from imblearn.over_sampling import RandomOverSampler\n",
    "\n",
    "\n",
    "import tensorflow as tf\n",
    "from tensorflow.keras.models import Sequential\n",
    "from tensorflow.keras.layers import Dense"
   ]
  },
  {
   "cell_type": "code",
   "execution_count": 2,
   "metadata": {
    "colab": {
     "base_uri": "https://localhost:8080/",
     "height": 424
    },
    "id": "F4SlU-h18oLb",
    "outputId": "615fa69d-7792-4eb8-ccef-612106d1481e"
   },
   "outputs": [
    {
     "data": {
      "text/html": [
       "<div>\n",
       "<style scoped>\n",
       "    .dataframe tbody tr th:only-of-type {\n",
       "        vertical-align: middle;\n",
       "    }\n",
       "\n",
       "    .dataframe tbody tr th {\n",
       "        vertical-align: top;\n",
       "    }\n",
       "\n",
       "    .dataframe thead th {\n",
       "        text-align: right;\n",
       "    }\n",
       "</style>\n",
       "<table border=\"1\" class=\"dataframe\">\n",
       "  <thead>\n",
       "    <tr style=\"text-align: right;\">\n",
       "      <th></th>\n",
       "      <th>gender</th>\n",
       "      <th>age</th>\n",
       "      <th>hypertension</th>\n",
       "      <th>heart_disease</th>\n",
       "      <th>smoking_history</th>\n",
       "      <th>bmi</th>\n",
       "      <th>HbA1c_level</th>\n",
       "      <th>blood_glucose_level</th>\n",
       "      <th>diabetes</th>\n",
       "    </tr>\n",
       "  </thead>\n",
       "  <tbody>\n",
       "    <tr>\n",
       "      <th>0</th>\n",
       "      <td>Female</td>\n",
       "      <td>80.0</td>\n",
       "      <td>0</td>\n",
       "      <td>1</td>\n",
       "      <td>never</td>\n",
       "      <td>25.19</td>\n",
       "      <td>6.6</td>\n",
       "      <td>140</td>\n",
       "      <td>0</td>\n",
       "    </tr>\n",
       "    <tr>\n",
       "      <th>1</th>\n",
       "      <td>Female</td>\n",
       "      <td>54.0</td>\n",
       "      <td>0</td>\n",
       "      <td>0</td>\n",
       "      <td>No Info</td>\n",
       "      <td>27.32</td>\n",
       "      <td>6.6</td>\n",
       "      <td>80</td>\n",
       "      <td>0</td>\n",
       "    </tr>\n",
       "    <tr>\n",
       "      <th>2</th>\n",
       "      <td>Male</td>\n",
       "      <td>28.0</td>\n",
       "      <td>0</td>\n",
       "      <td>0</td>\n",
       "      <td>never</td>\n",
       "      <td>27.32</td>\n",
       "      <td>5.7</td>\n",
       "      <td>158</td>\n",
       "      <td>0</td>\n",
       "    </tr>\n",
       "    <tr>\n",
       "      <th>3</th>\n",
       "      <td>Female</td>\n",
       "      <td>36.0</td>\n",
       "      <td>0</td>\n",
       "      <td>0</td>\n",
       "      <td>current</td>\n",
       "      <td>23.45</td>\n",
       "      <td>5.0</td>\n",
       "      <td>155</td>\n",
       "      <td>0</td>\n",
       "    </tr>\n",
       "    <tr>\n",
       "      <th>4</th>\n",
       "      <td>Male</td>\n",
       "      <td>76.0</td>\n",
       "      <td>1</td>\n",
       "      <td>1</td>\n",
       "      <td>current</td>\n",
       "      <td>20.14</td>\n",
       "      <td>4.8</td>\n",
       "      <td>155</td>\n",
       "      <td>0</td>\n",
       "    </tr>\n",
       "    <tr>\n",
       "      <th>...</th>\n",
       "      <td>...</td>\n",
       "      <td>...</td>\n",
       "      <td>...</td>\n",
       "      <td>...</td>\n",
       "      <td>...</td>\n",
       "      <td>...</td>\n",
       "      <td>...</td>\n",
       "      <td>...</td>\n",
       "      <td>...</td>\n",
       "    </tr>\n",
       "    <tr>\n",
       "      <th>99995</th>\n",
       "      <td>Female</td>\n",
       "      <td>80.0</td>\n",
       "      <td>0</td>\n",
       "      <td>0</td>\n",
       "      <td>No Info</td>\n",
       "      <td>27.32</td>\n",
       "      <td>6.2</td>\n",
       "      <td>90</td>\n",
       "      <td>0</td>\n",
       "    </tr>\n",
       "    <tr>\n",
       "      <th>99996</th>\n",
       "      <td>Female</td>\n",
       "      <td>2.0</td>\n",
       "      <td>0</td>\n",
       "      <td>0</td>\n",
       "      <td>No Info</td>\n",
       "      <td>17.37</td>\n",
       "      <td>6.5</td>\n",
       "      <td>100</td>\n",
       "      <td>0</td>\n",
       "    </tr>\n",
       "    <tr>\n",
       "      <th>99997</th>\n",
       "      <td>Male</td>\n",
       "      <td>66.0</td>\n",
       "      <td>0</td>\n",
       "      <td>0</td>\n",
       "      <td>former</td>\n",
       "      <td>27.83</td>\n",
       "      <td>5.7</td>\n",
       "      <td>155</td>\n",
       "      <td>0</td>\n",
       "    </tr>\n",
       "    <tr>\n",
       "      <th>99998</th>\n",
       "      <td>Female</td>\n",
       "      <td>24.0</td>\n",
       "      <td>0</td>\n",
       "      <td>0</td>\n",
       "      <td>never</td>\n",
       "      <td>35.42</td>\n",
       "      <td>4.0</td>\n",
       "      <td>100</td>\n",
       "      <td>0</td>\n",
       "    </tr>\n",
       "    <tr>\n",
       "      <th>99999</th>\n",
       "      <td>Female</td>\n",
       "      <td>57.0</td>\n",
       "      <td>0</td>\n",
       "      <td>0</td>\n",
       "      <td>current</td>\n",
       "      <td>22.43</td>\n",
       "      <td>6.6</td>\n",
       "      <td>90</td>\n",
       "      <td>0</td>\n",
       "    </tr>\n",
       "  </tbody>\n",
       "</table>\n",
       "<p>100000 rows × 9 columns</p>\n",
       "</div>"
      ],
      "text/plain": [
       "       gender   age  hypertension  heart_disease smoking_history    bmi  \\\n",
       "0      Female  80.0             0              1           never  25.19   \n",
       "1      Female  54.0             0              0         No Info  27.32   \n",
       "2        Male  28.0             0              0           never  27.32   \n",
       "3      Female  36.0             0              0         current  23.45   \n",
       "4        Male  76.0             1              1         current  20.14   \n",
       "...       ...   ...           ...            ...             ...    ...   \n",
       "99995  Female  80.0             0              0         No Info  27.32   \n",
       "99996  Female   2.0             0              0         No Info  17.37   \n",
       "99997    Male  66.0             0              0          former  27.83   \n",
       "99998  Female  24.0             0              0           never  35.42   \n",
       "99999  Female  57.0             0              0         current  22.43   \n",
       "\n",
       "       HbA1c_level  blood_glucose_level  diabetes  \n",
       "0              6.6                  140         0  \n",
       "1              6.6                   80         0  \n",
       "2              5.7                  158         0  \n",
       "3              5.0                  155         0  \n",
       "4              4.8                  155         0  \n",
       "...            ...                  ...       ...  \n",
       "99995          6.2                   90         0  \n",
       "99996          6.5                  100         0  \n",
       "99997          5.7                  155         0  \n",
       "99998          4.0                  100         0  \n",
       "99999          6.6                   90         0  \n",
       "\n",
       "[100000 rows x 9 columns]"
      ]
     },
     "execution_count": 2,
     "metadata": {},
     "output_type": "execute_result"
    }
   ],
   "source": [
    "#loading the dataset\n",
    "df_pred= pd.read_csv('Data/diabetes_prediction_dataset.csv')\n",
    "df_pred"
   ]
  },
  {
   "cell_type": "code",
   "execution_count": 3,
   "metadata": {
    "colab": {
     "base_uri": "https://localhost:8080/"
    },
    "id": "nG9zjdRr-ZAV",
    "outputId": "af07b673-4be3-4b3b-8617-3840aa53c8ff"
   },
   "outputs": [
    {
     "data": {
      "text/plain": [
       "array([0, 1], dtype=int64)"
      ]
     },
     "execution_count": 3,
     "metadata": {},
     "output_type": "execute_result"
    }
   ],
   "source": [
    "#Displaying the number of labels\n",
    "df_pred['diabetes'].unique()"
   ]
  },
  {
   "cell_type": "markdown",
   "metadata": {
    "id": "w9FDw7OFT8nM"
   },
   "source": [
    "## Data Understanding"
   ]
  },
  {
   "cell_type": "code",
   "execution_count": 4,
   "metadata": {
    "colab": {
     "base_uri": "https://localhost:8080/"
    },
    "id": "FLVqfglWuo99",
    "outputId": "7b1f975b-58b1-4c8f-ab5e-5c70b7c983ae"
   },
   "outputs": [
    {
     "data": {
      "text/plain": [
       "(100000, 9)"
      ]
     },
     "execution_count": 4,
     "metadata": {},
     "output_type": "execute_result"
    }
   ],
   "source": [
    "#Checking for the rows and columns in the prediction dataset\n",
    "df_pred.shape"
   ]
  },
  {
   "cell_type": "markdown",
   "metadata": {
    "id": "jGdCDw6mftsd"
   },
   "source": [
    "There are 9 columns and 100000 rows"
   ]
  },
  {
   "cell_type": "code",
   "execution_count": 5,
   "metadata": {
    "colab": {
     "base_uri": "https://localhost:8080/"
    },
    "id": "FCLuu2V1u4N5",
    "outputId": "da9688cc-eafe-4d47-ef90-06323fd881a2"
   },
   "outputs": [
    {
     "data": {
      "text/plain": [
       "Index(['gender', 'age', 'hypertension', 'heart_disease', 'smoking_history',\n",
       "       'bmi', 'HbA1c_level', 'blood_glucose_level', 'diabetes'],\n",
       "      dtype='object')"
      ]
     },
     "execution_count": 5,
     "metadata": {},
     "output_type": "execute_result"
    }
   ],
   "source": [
    "#displaying the prediction columns\n",
    "df_pred.columns"
   ]
  },
  {
   "cell_type": "code",
   "execution_count": 6,
   "metadata": {
    "colab": {
     "base_uri": "https://localhost:8080/"
    },
    "id": "YRR7mDpVTmOY",
    "outputId": "28bf6a8d-37ff-42de-ea06-e19a9fd7753a"
   },
   "outputs": [
    {
     "name": "stdout",
     "output_type": "stream",
     "text": [
      "<class 'pandas.core.frame.DataFrame'>\n",
      "RangeIndex: 100000 entries, 0 to 99999\n",
      "Data columns (total 9 columns):\n",
      " #   Column               Non-Null Count   Dtype  \n",
      "---  ------               --------------   -----  \n",
      " 0   gender               100000 non-null  object \n",
      " 1   age                  100000 non-null  float64\n",
      " 2   hypertension         100000 non-null  int64  \n",
      " 3   heart_disease        100000 non-null  int64  \n",
      " 4   smoking_history      100000 non-null  object \n",
      " 5   bmi                  100000 non-null  float64\n",
      " 6   HbA1c_level          100000 non-null  float64\n",
      " 7   blood_glucose_level  100000 non-null  int64  \n",
      " 8   diabetes             100000 non-null  int64  \n",
      "dtypes: float64(3), int64(4), object(2)\n",
      "memory usage: 6.9+ MB\n",
      "None\n"
     ]
    }
   ],
   "source": [
    "#dispaying the datatypes\n",
    "print(df_pred.info())"
   ]
  },
  {
   "cell_type": "code",
   "execution_count": 7,
   "metadata": {
    "colab": {
     "base_uri": "https://localhost:8080/"
    },
    "id": "j0p9Yu07USDt",
    "outputId": "b11ad048-7fcb-41e9-a3bc-9610a6931fb9"
   },
   "outputs": [
    {
     "data": {
      "text/plain": [
       "gender                 0\n",
       "age                    0\n",
       "hypertension           0\n",
       "heart_disease          0\n",
       "smoking_history        0\n",
       "bmi                    0\n",
       "HbA1c_level            0\n",
       "blood_glucose_level    0\n",
       "diabetes               0\n",
       "dtype: int64"
      ]
     },
     "execution_count": 7,
     "metadata": {},
     "output_type": "execute_result"
    }
   ],
   "source": [
    "#Checking for missing values in the prediction dataset\n",
    "df_pred.isna().sum()"
   ]
  },
  {
   "cell_type": "code",
   "execution_count": 8,
   "metadata": {
    "id": "vEQCiYtNtH5H"
   },
   "outputs": [],
   "source": [
    "#Plotting boxplots to check for outliers\n",
    "\n",
    "import matplotlib.pyplot as plt\n",
    "import seaborn as sns\n",
    "\n",
    "# Defining the subplot grid\n",
    "def boxplot_plot(df):\n",
    "    for idx, column in enumerate(df.columns):\n",
    "        plt.figure(figsize=(20, 5))\n",
    "        plt.title('Distribution of the ' + column + ' column', fontsize=20)\n",
    "        ax = plt.gca()\n",
    "        sns.boxplot(data=df_diab_012, x=column, ax=ax)\n",
    "        plt.show()\n"
   ]
  },
  {
   "cell_type": "code",
   "execution_count": 9,
   "metadata": {
    "id": "z7hH83V_yaUP"
   },
   "outputs": [],
   "source": [
    "#Plotting histograms for the columns\n",
    "def histogram_plot(df):\n",
    "  for column in df:\n",
    "        plt.figure(figsize=(20,5))\n",
    "        plt.title('Distribution of the ' + column+ ' column',fontsize=(20))\n",
    "        sns.histplot(data=df, x=column)"
   ]
  },
  {
   "cell_type": "markdown",
   "metadata": {
    "id": "vJ9F4_fD0D5q"
   },
   "source": [
    "## CNN Modelling"
   ]
  },
  {
   "cell_type": "code",
   "execution_count": 10,
   "metadata": {
    "colab": {
     "base_uri": "https://localhost:8080/"
    },
    "id": "sd_3PadW0C4S",
    "outputId": "553f3acf-2691-4f51-ce10-72c2c241ec27"
   },
   "outputs": [
    {
     "data": {
      "text/plain": [
       "Index(['gender', 'age', 'hypertension', 'heart_disease', 'smoking_history',\n",
       "       'bmi', 'HbA1c_level', 'blood_glucose_level', 'diabetes'],\n",
       "      dtype='object')"
      ]
     },
     "execution_count": 10,
     "metadata": {},
     "output_type": "execute_result"
    }
   ],
   "source": [
    "df_pred.columns"
   ]
  },
  {
   "cell_type": "code",
   "execution_count": 11,
   "metadata": {
    "colab": {
     "base_uri": "https://localhost:8080/"
    },
    "id": "Hr-xG-zhVt5w",
    "outputId": "7bd7a8ae-7719-4b85-8b96-38bc8e4aa1e3"
   },
   "outputs": [
    {
     "data": {
      "text/plain": [
       "array([80.  , 54.  , 28.  , 36.  , 76.  , 20.  , 44.  , 79.  , 42.  ,\n",
       "       32.  , 53.  , 78.  , 67.  , 15.  , 37.  , 40.  ,  5.  , 69.  ,\n",
       "       72.  ,  4.  , 30.  , 45.  , 43.  , 50.  , 41.  , 26.  , 34.  ,\n",
       "       73.  , 77.  , 66.  , 29.  , 60.  , 38.  ,  3.  , 57.  , 74.  ,\n",
       "       19.  , 46.  , 21.  , 59.  , 27.  , 13.  , 56.  ,  2.  ,  7.  ,\n",
       "       11.  ,  6.  , 55.  ,  9.  , 62.  , 47.  , 12.  , 68.  , 75.  ,\n",
       "       22.  , 58.  , 18.  , 24.  , 17.  , 25.  ,  0.08, 33.  , 16.  ,\n",
       "       61.  , 31.  ,  8.  , 49.  , 39.  , 65.  , 14.  , 70.  ,  0.56,\n",
       "       48.  , 51.  , 71.  ,  0.88, 64.  , 63.  , 52.  ,  0.16, 10.  ,\n",
       "       35.  , 23.  ,  0.64,  1.16,  1.64,  0.72,  1.88,  1.32,  0.8 ,\n",
       "        1.24,  1.  ,  1.8 ,  0.48,  1.56,  1.08,  0.24,  1.4 ,  0.4 ,\n",
       "        0.32,  1.72,  1.48])"
      ]
     },
     "execution_count": 11,
     "metadata": {},
     "output_type": "execute_result"
    }
   ],
   "source": [
    "df_pred.age.unique()"
   ]
  },
  {
   "cell_type": "markdown",
   "metadata": {
    "id": "bGm8W9rgV3Yg"
   },
   "source": [
    "Where 0 depicts the patient does not have diabetes and 1 depicts the person has diabetes"
   ]
  },
  {
   "cell_type": "code",
   "execution_count": 12,
   "metadata": {
    "colab": {
     "base_uri": "https://localhost:8080/"
    },
    "id": "VWvQnc26V1zl",
    "outputId": "d49bafe8-1b5c-4cc0-b7c5-6426fd5ecad6"
   },
   "outputs": [
    {
     "data": {
      "text/plain": [
       "gender                 0\n",
       "age                    0\n",
       "hypertension           0\n",
       "heart_disease          0\n",
       "smoking_history        0\n",
       "bmi                    0\n",
       "HbA1c_level            0\n",
       "blood_glucose_level    0\n",
       "diabetes               0\n",
       "dtype: int64"
      ]
     },
     "execution_count": 12,
     "metadata": {},
     "output_type": "execute_result"
    }
   ],
   "source": [
    "#checking for missing values\n",
    "df_pred.isnull().sum()"
   ]
  },
  {
   "cell_type": "code",
   "execution_count": 13,
   "metadata": {
    "id": "SYQpLSZlWuJ4"
   },
   "outputs": [],
   "source": [
    "#Defining a function to determine the threshold of the outliers\n",
    "def outlier_thresholds(dataframe, variable):\n",
    "    quartile1 = dataframe[variable].quantile(0.10)\n",
    "    quartile3 = dataframe[variable].quantile(0.90)\n",
    "    interquantile_range = quartile3 - quartile1\n",
    "    up_limit = quartile3 + 1.5 * interquantile_range\n",
    "    low_limit = quartile1 - 1.5 * interquantile_range\n",
    "    return low_limit, up_limit\n"
   ]
  },
  {
   "cell_type": "code",
   "execution_count": 14,
   "metadata": {
    "id": "PxpVyMScXG2x"
   },
   "outputs": [],
   "source": [
    "#Determining presence of outliers\n",
    "def has_outliers(dataframe, variable):\n",
    "    low_limit, up_limit = outlier_thresholds(dataframe, variable)\n",
    "    if dataframe[(dataframe[variable] < low_limit) | (dataframe[variable] > up_limit)].any(axis=None):\n",
    "        print(variable, \"yes\")"
   ]
  },
  {
   "cell_type": "code",
   "execution_count": 15,
   "metadata": {
    "colab": {
     "base_uri": "https://localhost:8080/"
    },
    "id": "pOVkn3oKdjVw",
    "outputId": "2fbfefdf-15ca-4eca-80ac-0efec2902f59"
   },
   "outputs": [
    {
     "data": {
      "text/plain": [
       "array([0, 1], dtype=int64)"
      ]
     },
     "execution_count": 15,
     "metadata": {},
     "output_type": "execute_result"
    }
   ],
   "source": [
    "df_pred.hypertension.unique()"
   ]
  },
  {
   "cell_type": "code",
   "execution_count": 16,
   "metadata": {
    "colab": {
     "base_uri": "https://localhost:8080/"
    },
    "id": "kU-ZZ8VKYaU4",
    "outputId": "099b3e5c-6405-43f9-9bf6-c843267640b8"
   },
   "outputs": [
    {
     "name": "stdout",
     "output_type": "stream",
     "text": [
      "bmi yes\n"
     ]
    }
   ],
   "source": [
    "# Looping through each column in the DataFrame and check for outliers\n",
    "for col in df_pred.columns:\n",
    "  if col not in ['gender','smoking_history','diabetes','heart_disease','hypertension']:\n",
    "    has_outliers(df_pred, col)"
   ]
  },
  {
   "cell_type": "code",
   "execution_count": 17,
   "metadata": {
    "id": "BSLd4lPfY2iI"
   },
   "outputs": [],
   "source": [
    "#Writing a function to set a threshold to cap the outliers\n",
    "def replace_with_thresholds(dataframe, numeric_columns):\n",
    "    for variable in numeric_columns:\n",
    "        low_limit, up_limit = outlier_thresholds(dataframe, variable)\n",
    "        dataframe.loc[(dataframe[variable] < low_limit), variable] = low_limit\n",
    "        dataframe.loc[(dataframe[variable] > up_limit), variable] = up_limit"
   ]
  },
  {
   "cell_type": "code",
   "execution_count": 18,
   "metadata": {
    "id": "jiDjEHSUZTZN"
   },
   "outputs": [],
   "source": [
    "#Replacing the outliers with the thresholds for the numeric columns.\n",
    "Numeric_col = [col for col in df_pred.columns if col not in ['gender','smoking_history','diabetes','heart_disease','hypertension']]\n",
    "replace_with_thresholds(df_pred, Numeric_col)\n"
   ]
  },
  {
   "cell_type": "code",
   "execution_count": 19,
   "metadata": {
    "id": "Vw2uk_G7ZHLt"
   },
   "outputs": [],
   "source": [
    "#Confirming if the outliers have been resolved\n",
    "for col in df_pred.columns:\n",
    "  if col not in ['gender','smoking_history','diabetes','heart_disease','hypertension']:\n",
    "    has_outliers(df_pred, col)"
   ]
  },
  {
   "cell_type": "markdown",
   "metadata": {
    "id": "HFj8rptcZsqj"
   },
   "source": [
    "There are no outliers observed"
   ]
  },
  {
   "cell_type": "code",
   "execution_count": 20,
   "metadata": {
    "colab": {
     "base_uri": "https://localhost:8080/",
     "height": 269
    },
    "id": "hPvj4DxMZuTB",
    "outputId": "92a06153-cf63-49be-bb6d-509386a94938"
   },
   "outputs": [
    {
     "data": {
      "text/html": [
       "<div>\n",
       "<style scoped>\n",
       "    .dataframe tbody tr th:only-of-type {\n",
       "        vertical-align: middle;\n",
       "    }\n",
       "\n",
       "    .dataframe tbody tr th {\n",
       "        vertical-align: top;\n",
       "    }\n",
       "\n",
       "    .dataframe thead th {\n",
       "        text-align: right;\n",
       "    }\n",
       "</style>\n",
       "<table border=\"1\" class=\"dataframe\">\n",
       "  <thead>\n",
       "    <tr style=\"text-align: right;\">\n",
       "      <th></th>\n",
       "      <th>count</th>\n",
       "      <th>mean</th>\n",
       "      <th>std</th>\n",
       "      <th>min</th>\n",
       "      <th>5%</th>\n",
       "      <th>25%</th>\n",
       "      <th>50%</th>\n",
       "      <th>75%</th>\n",
       "      <th>90%</th>\n",
       "      <th>95%</th>\n",
       "      <th>99%</th>\n",
       "      <th>max</th>\n",
       "    </tr>\n",
       "  </thead>\n",
       "  <tbody>\n",
       "    <tr>\n",
       "      <th>age</th>\n",
       "      <td>100000.0</td>\n",
       "      <td>41.885856</td>\n",
       "      <td>22.516840</td>\n",
       "      <td>0.08</td>\n",
       "      <td>4.00</td>\n",
       "      <td>24.00</td>\n",
       "      <td>43.00</td>\n",
       "      <td>60.00</td>\n",
       "      <td>73.00</td>\n",
       "      <td>80.00</td>\n",
       "      <td>80.0000</td>\n",
       "      <td>80.000</td>\n",
       "    </tr>\n",
       "    <tr>\n",
       "      <th>hypertension</th>\n",
       "      <td>100000.0</td>\n",
       "      <td>0.074850</td>\n",
       "      <td>0.263150</td>\n",
       "      <td>0.00</td>\n",
       "      <td>0.00</td>\n",
       "      <td>0.00</td>\n",
       "      <td>0.00</td>\n",
       "      <td>0.00</td>\n",
       "      <td>0.00</td>\n",
       "      <td>1.00</td>\n",
       "      <td>1.0000</td>\n",
       "      <td>1.000</td>\n",
       "    </tr>\n",
       "    <tr>\n",
       "      <th>heart_disease</th>\n",
       "      <td>100000.0</td>\n",
       "      <td>0.039420</td>\n",
       "      <td>0.194593</td>\n",
       "      <td>0.00</td>\n",
       "      <td>0.00</td>\n",
       "      <td>0.00</td>\n",
       "      <td>0.00</td>\n",
       "      <td>0.00</td>\n",
       "      <td>0.00</td>\n",
       "      <td>0.00</td>\n",
       "      <td>1.0000</td>\n",
       "      <td>1.000</td>\n",
       "    </tr>\n",
       "    <tr>\n",
       "      <th>bmi</th>\n",
       "      <td>100000.0</td>\n",
       "      <td>27.312972</td>\n",
       "      <td>6.589253</td>\n",
       "      <td>10.01</td>\n",
       "      <td>16.82</td>\n",
       "      <td>23.63</td>\n",
       "      <td>27.32</td>\n",
       "      <td>29.58</td>\n",
       "      <td>35.47</td>\n",
       "      <td>39.49</td>\n",
       "      <td>48.7901</td>\n",
       "      <td>59.905</td>\n",
       "    </tr>\n",
       "    <tr>\n",
       "      <th>HbA1c_level</th>\n",
       "      <td>100000.0</td>\n",
       "      <td>5.527507</td>\n",
       "      <td>1.070672</td>\n",
       "      <td>3.50</td>\n",
       "      <td>3.50</td>\n",
       "      <td>4.80</td>\n",
       "      <td>5.80</td>\n",
       "      <td>6.20</td>\n",
       "      <td>6.60</td>\n",
       "      <td>6.60</td>\n",
       "      <td>8.8000</td>\n",
       "      <td>9.000</td>\n",
       "    </tr>\n",
       "    <tr>\n",
       "      <th>blood_glucose_level</th>\n",
       "      <td>100000.0</td>\n",
       "      <td>138.058060</td>\n",
       "      <td>40.708136</td>\n",
       "      <td>80.00</td>\n",
       "      <td>80.00</td>\n",
       "      <td>100.00</td>\n",
       "      <td>140.00</td>\n",
       "      <td>159.00</td>\n",
       "      <td>200.00</td>\n",
       "      <td>200.00</td>\n",
       "      <td>280.0000</td>\n",
       "      <td>300.000</td>\n",
       "    </tr>\n",
       "    <tr>\n",
       "      <th>diabetes</th>\n",
       "      <td>100000.0</td>\n",
       "      <td>0.085000</td>\n",
       "      <td>0.278883</td>\n",
       "      <td>0.00</td>\n",
       "      <td>0.00</td>\n",
       "      <td>0.00</td>\n",
       "      <td>0.00</td>\n",
       "      <td>0.00</td>\n",
       "      <td>0.00</td>\n",
       "      <td>1.00</td>\n",
       "      <td>1.0000</td>\n",
       "      <td>1.000</td>\n",
       "    </tr>\n",
       "  </tbody>\n",
       "</table>\n",
       "</div>"
      ],
      "text/plain": [
       "                        count        mean        std    min     5%     25%  \\\n",
       "age                  100000.0   41.885856  22.516840   0.08   4.00   24.00   \n",
       "hypertension         100000.0    0.074850   0.263150   0.00   0.00    0.00   \n",
       "heart_disease        100000.0    0.039420   0.194593   0.00   0.00    0.00   \n",
       "bmi                  100000.0   27.312972   6.589253  10.01  16.82   23.63   \n",
       "HbA1c_level          100000.0    5.527507   1.070672   3.50   3.50    4.80   \n",
       "blood_glucose_level  100000.0  138.058060  40.708136  80.00  80.00  100.00   \n",
       "diabetes             100000.0    0.085000   0.278883   0.00   0.00    0.00   \n",
       "\n",
       "                        50%     75%     90%     95%       99%      max  \n",
       "age                   43.00   60.00   73.00   80.00   80.0000   80.000  \n",
       "hypertension           0.00    0.00    0.00    1.00    1.0000    1.000  \n",
       "heart_disease          0.00    0.00    0.00    0.00    1.0000    1.000  \n",
       "bmi                   27.32   29.58   35.47   39.49   48.7901   59.905  \n",
       "HbA1c_level            5.80    6.20    6.60    6.60    8.8000    9.000  \n",
       "blood_glucose_level  140.00  159.00  200.00  200.00  280.0000  300.000  \n",
       "diabetes               0.00    0.00    0.00    1.00    1.0000    1.000  "
      ]
     },
     "execution_count": 20,
     "metadata": {},
     "output_type": "execute_result"
    }
   ],
   "source": [
    "#Displaying the measures of central tendancy of the dataset\n",
    "df_pred.describe([0.05,0.25,0.50,0.75,0.90,0.95,0.99]).T"
   ]
  },
  {
   "cell_type": "markdown",
   "metadata": {
    "id": "VAYCqhBMiye7"
   },
   "source": [
    "## Data Modelling"
   ]
  },
  {
   "cell_type": "code",
   "execution_count": 21,
   "metadata": {
    "colab": {
     "base_uri": "https://localhost:8080/"
    },
    "id": "PSg936z8wJvl",
    "outputId": "71dcd9b9-ddc1-4161-8cf7-2dce90b833f9"
   },
   "outputs": [
    {
     "name": "stdout",
     "output_type": "stream",
     "text": [
      "Epoch 1/10\n",
      "2500/2500 [==============================] - 4s 1ms/step - loss: 0.1440 - accuracy: 0.9504\n",
      "Epoch 2/10\n",
      "2500/2500 [==============================] - 3s 1ms/step - loss: 0.1147 - accuracy: 0.9603\n",
      "Epoch 3/10\n",
      "2500/2500 [==============================] - 3s 1ms/step - loss: 0.1115 - accuracy: 0.9615\n",
      "Epoch 4/10\n",
      "2500/2500 [==============================] - 3s 1ms/step - loss: 0.1070 - accuracy: 0.9634\n",
      "Epoch 5/10\n",
      "2500/2500 [==============================] - 3s 1ms/step - loss: 0.1003 - accuracy: 0.9661\n",
      "Epoch 6/10\n",
      "2500/2500 [==============================] - 3s 1ms/step - loss: 0.0966 - accuracy: 0.9673\n",
      "Epoch 7/10\n",
      "2500/2500 [==============================] - 3s 1ms/step - loss: 0.0937 - accuracy: 0.9684\n",
      "Epoch 8/10\n",
      "2500/2500 [==============================] - 3s 1ms/step - loss: 0.0921 - accuracy: 0.9689\n",
      "Epoch 9/10\n",
      "2500/2500 [==============================] - 3s 1ms/step - loss: 0.0901 - accuracy: 0.9697\n",
      "Epoch 10/10\n",
      "2500/2500 [==============================] - 3s 1ms/step - loss: 0.0883 - accuracy: 0.9700\n",
      "625/625 [==============================] - 1s 969us/step\n",
      "Epoch 1/10\n",
      "2500/2500 [==============================] - 4s 1ms/step - loss: 0.1489 - accuracy: 0.9497\n",
      "Epoch 2/10\n",
      "2500/2500 [==============================] - 3s 1ms/step - loss: 0.1159 - accuracy: 0.9595\n",
      "Epoch 3/10\n",
      "2500/2500 [==============================] - 3s 1ms/step - loss: 0.1136 - accuracy: 0.9605\n",
      "Epoch 4/10\n",
      "2500/2500 [==============================] - 3s 1ms/step - loss: 0.1116 - accuracy: 0.9614\n",
      "Epoch 5/10\n",
      "2500/2500 [==============================] - 4s 1ms/step - loss: 0.1079 - accuracy: 0.9632\n",
      "Epoch 6/10\n",
      "2500/2500 [==============================] - 3s 1ms/step - loss: 0.1022 - accuracy: 0.9654\n",
      "Epoch 7/10\n",
      "2500/2500 [==============================] - 3s 1ms/step - loss: 0.0977 - accuracy: 0.9668\n",
      "Epoch 8/10\n",
      "2500/2500 [==============================] - 3s 1ms/step - loss: 0.0944 - accuracy: 0.9682\n",
      "Epoch 9/10\n",
      "2500/2500 [==============================] - 3s 1ms/step - loss: 0.0930 - accuracy: 0.9687\n",
      "Epoch 10/10\n",
      "2500/2500 [==============================] - 3s 1ms/step - loss: 0.0913 - accuracy: 0.9697\n",
      "625/625 [==============================] - 1s 949us/step\n",
      "Epoch 1/10\n",
      "2500/2500 [==============================] - 4s 1ms/step - loss: 0.1483 - accuracy: 0.9500\n",
      "Epoch 2/10\n",
      "2500/2500 [==============================] - 3s 1ms/step - loss: 0.1138 - accuracy: 0.9606\n",
      "Epoch 3/10\n",
      "2500/2500 [==============================] - 3s 1ms/step - loss: 0.1095 - accuracy: 0.9624\n",
      "Epoch 4/10\n",
      "2500/2500 [==============================] - 3s 1ms/step - loss: 0.1052 - accuracy: 0.9642\n",
      "Epoch 5/10\n",
      "2500/2500 [==============================] - 3s 1ms/step - loss: 0.1015 - accuracy: 0.9662\n",
      "Epoch 6/10\n",
      "2500/2500 [==============================] - 3s 1ms/step - loss: 0.0981 - accuracy: 0.9674\n",
      "Epoch 7/10\n",
      "2500/2500 [==============================] - 3s 1ms/step - loss: 0.0944 - accuracy: 0.9687\n",
      "Epoch 8/10\n",
      "2500/2500 [==============================] - 3s 1ms/step - loss: 0.0906 - accuracy: 0.9698\n",
      "Epoch 9/10\n",
      "2500/2500 [==============================] - 3s 1ms/step - loss: 0.0885 - accuracy: 0.9703\n",
      "Epoch 10/10\n",
      "2500/2500 [==============================] - 3s 1ms/step - loss: 0.0865 - accuracy: 0.9707\n",
      "625/625 [==============================] - 1s 1ms/step\n",
      "Epoch 1/10\n",
      "2500/2500 [==============================] - 4s 1ms/step - loss: 0.1446 - accuracy: 0.9511\n",
      "Epoch 2/10\n",
      "2500/2500 [==============================] - 4s 1ms/step - loss: 0.1161 - accuracy: 0.9587\n",
      "Epoch 3/10\n",
      "2500/2500 [==============================] - 3s 1ms/step - loss: 0.1142 - accuracy: 0.9600\n",
      "Epoch 4/10\n",
      "2500/2500 [==============================] - 3s 1ms/step - loss: 0.1104 - accuracy: 0.9620\n",
      "Epoch 5/10\n",
      "2500/2500 [==============================] - 3s 1ms/step - loss: 0.1071 - accuracy: 0.9641\n",
      "Epoch 6/10\n",
      "2500/2500 [==============================] - 3s 1ms/step - loss: 0.1038 - accuracy: 0.9658\n",
      "Epoch 7/10\n",
      "2500/2500 [==============================] - 3s 1ms/step - loss: 0.0997 - accuracy: 0.9667\n",
      "Epoch 8/10\n",
      "2500/2500 [==============================] - 3s 1ms/step - loss: 0.0948 - accuracy: 0.9683\n",
      "Epoch 9/10\n",
      "2500/2500 [==============================] - 3s 1ms/step - loss: 0.0913 - accuracy: 0.9687\n",
      "Epoch 10/10\n",
      "2500/2500 [==============================] - 3s 1ms/step - loss: 0.0888 - accuracy: 0.9692\n",
      "625/625 [==============================] - 1s 965us/step\n",
      "Epoch 1/10\n",
      "2500/2500 [==============================] - 4s 1ms/step - loss: 0.1480 - accuracy: 0.9501\n",
      "Epoch 2/10\n",
      "2500/2500 [==============================] - 3s 1ms/step - loss: 0.1162 - accuracy: 0.9592\n",
      "Epoch 3/10\n",
      "2500/2500 [==============================] - 3s 1ms/step - loss: 0.1137 - accuracy: 0.9605\n",
      "Epoch 4/10\n",
      "2500/2500 [==============================] - 3s 1ms/step - loss: 0.1100 - accuracy: 0.9628\n",
      "Epoch 5/10\n",
      "2500/2500 [==============================] - 3s 1ms/step - loss: 0.1062 - accuracy: 0.9645\n",
      "Epoch 6/10\n",
      "2500/2500 [==============================] - 3s 1ms/step - loss: 0.1035 - accuracy: 0.9662\n",
      "Epoch 7/10\n",
      "2500/2500 [==============================] - 3s 1ms/step - loss: 0.1007 - accuracy: 0.9673\n",
      "Epoch 8/10\n",
      "2500/2500 [==============================] - 3s 1ms/step - loss: 0.0972 - accuracy: 0.9680\n",
      "Epoch 9/10\n",
      "2500/2500 [==============================] - 3s 1ms/step - loss: 0.0931 - accuracy: 0.9689\n",
      "Epoch 10/10\n",
      "2500/2500 [==============================] - 3s 1ms/step - loss: 0.0901 - accuracy: 0.9696\n",
      "625/625 [==============================] - 1s 1ms/step\n",
      "Precision Scores: [0.9877085162423178, 0.9908256880733946, 0.9911347517730497, 0.9826238053866203, 0.9681309216192937]\n",
      "Mean Precision: 0.9840847366189351\n",
      "Recall Scores: [0.6586651053864169, 0.650210716435882, 0.6417910447761194, 0.6672566371681415, 0.6635182998819362]\n",
      "Mean Recall: 0.6562883607296992\n",
      "F1 Scores: [0.7903055848261328, 0.7851690294438387, 0.7790940766550523, 0.7947997189037245, 0.7873905429071804]\n",
      "Mean F1-score: 0.7873517905471857\n"
     ]
    }
   ],
   "source": [
    "# Splitting Data into Features and Labels\n",
    "X = df_pred.drop(['diabetes'], axis=1)  # Replace 'target_column' with the actual target column name\n",
    "y = df_pred['diabetes']\n",
    "\n",
    "# Label Encoding for Categorical Columns\n",
    "label_encoder = LabelEncoder()\n",
    "X_encoded = X.copy()\n",
    "for col in X_encoded.columns:\n",
    "    if X_encoded[col].dtype == 'object':\n",
    "        X_encoded[col] = label_encoder.fit_transform(X_encoded[col])\n",
    "\n",
    "# Feature Scaling (MinMax Scaling)\n",
    "scaler = MinMaxScaler()\n",
    "X_scaled = scaler.fit_transform(X_encoded)\n",
    "\n",
    "# Model Hyperparameters\n",
    "epochs = 10\n",
    "batch_size = 32\n",
    "n_splits = 5\n",
    "\n",
    "# Performing Cross-Validation\n",
    "cv = KFold(n_splits=n_splits, shuffle=True, random_state=42)  # 5-fold cross-validation\n",
    "scoring = {'precision': 'precision', 'recall': 'recall', 'f1': 'f1'}\n",
    "precision_scores, recall_scores, f1_scores = [], [], []\n",
    "\n",
    "for train_idx, test_idx in cv.split(X_scaled):\n",
    "    X_train, X_test = X_scaled[train_idx], X_scaled[test_idx]\n",
    "    y_train, y_test = y[train_idx], y[test_idx]\n",
    "\n",
    "    # Model Selection and Building\n",
    "    model = Sequential()\n",
    "    model.add(Dense(32, activation='relu', input_shape=(X_scaled.shape[1],)))\n",
    "    model.add(Dense(64, activation='relu'))\n",
    "    model.add(Dense(1, activation='sigmoid'))  # For binary classification, use 'sigmoid' activation for the output layer\n",
    "\n",
    "    # Model Compilation\n",
    "    model.compile(optimizer='adam', loss='binary_crossentropy', metrics=['accuracy'])\n",
    "\n",
    "    # Model Training\n",
    "    model.fit(X_train, y_train, epochs=epochs, batch_size=batch_size)\n",
    "\n",
    "    # Model Evaluation (Precision, Recall, F1-score)\n",
    "    y_pred = model.predict(X_test)\n",
    "    y_pred = (y_pred > 0.5).astype(int)  # Converting the probabilities to binary predictions\n",
    "\n",
    "    precision_scores.append(precision_score(y_test, y_pred))\n",
    "    recall_scores.append(recall_score(y_test, y_pred))\n",
    "    f1_scores.append(f1_score(y_test, y_pred))\n",
    "\n",
    "# Calculating the Mean and Standard Deviation of Evaluation Metrics\n",
    "print(\"Precision Scores:\", precision_scores)\n",
    "print(\"Mean Precision:\", np.mean(precision_scores))\n",
    "print(\"Recall Scores:\", recall_scores)\n",
    "print(\"Mean Recall:\", np.mean(recall_scores))\n",
    "print(\"F1 Scores:\", f1_scores)\n",
    "print(\"Mean F1-score:\", np.mean(f1_scores))\n",
    "\n"
   ]
  },
  {
   "cell_type": "markdown",
   "metadata": {
    "id": "SmH2l-VdjQwt"
   },
   "source": [
    "The results obtained before tuning are as follows:\n",
    "---\n",
    "Mean Precision: 0.9527796794625936\n",
    "---\n",
    "Mean Recall: 0.6628011196639126\n",
    "---\n",
    "Mean F1-score: 0.7778072381482287\n",
    "---"
   ]
  },
  {
   "cell_type": "markdown",
   "metadata": {
    "id": "tYoThefmhKyq"
   },
   "source": [
    "Plotting for the Training and Validation Loss graphs to check for underfitting and overfitting"
   ]
  },
  {
   "cell_type": "markdown",
   "metadata": {
    "id": "TU01qtyOjE1u"
   },
   "source": [
    "Performing hyper parameter tuning using cross-validation"
   ]
  },
  {
   "cell_type": "code",
   "execution_count": 22,
   "metadata": {
    "colab": {
     "base_uri": "https://localhost:8080/",
     "height": 1000
    },
    "id": "IZBmk8u12V3U",
    "outputId": "aa459764-936c-43c7-d72f-3d83f5dc6a6e"
   },
   "outputs": [
    {
     "name": "stdout",
     "output_type": "stream",
     "text": [
      "Epoch 1/50\n",
      "2500/2500 [==============================] - 5s 2ms/step - loss: 0.1432 - accuracy: 0.9522 - val_loss: 0.1169 - val_accuracy: 0.9589\n",
      "Epoch 2/50\n",
      "2500/2500 [==============================] - 4s 2ms/step - loss: 0.1160 - accuracy: 0.9597 - val_loss: 0.1138 - val_accuracy: 0.9599\n",
      "Epoch 3/50\n",
      "2500/2500 [==============================] - 4s 2ms/step - loss: 0.1147 - accuracy: 0.9602 - val_loss: 0.1174 - val_accuracy: 0.9599\n",
      "Epoch 4/50\n",
      "2500/2500 [==============================] - 4s 2ms/step - loss: 0.1134 - accuracy: 0.9615 - val_loss: 0.1117 - val_accuracy: 0.9614\n",
      "Epoch 5/50\n",
      "2500/2500 [==============================] - 4s 2ms/step - loss: 0.1108 - accuracy: 0.9623 - val_loss: 0.1067 - val_accuracy: 0.9632\n",
      "Epoch 6/50\n",
      "2500/2500 [==============================] - 4s 2ms/step - loss: 0.1042 - accuracy: 0.9645 - val_loss: 0.1026 - val_accuracy: 0.9640\n",
      "Epoch 7/50\n",
      "2500/2500 [==============================] - 4s 2ms/step - loss: 0.1003 - accuracy: 0.9658 - val_loss: 0.1004 - val_accuracy: 0.9644\n",
      "Epoch 8/50\n",
      "2500/2500 [==============================] - 4s 2ms/step - loss: 0.0980 - accuracy: 0.9662 - val_loss: 0.0969 - val_accuracy: 0.9660\n",
      "Epoch 9/50\n",
      "2500/2500 [==============================] - 4s 2ms/step - loss: 0.0954 - accuracy: 0.9669 - val_loss: 0.0992 - val_accuracy: 0.9645\n",
      "Epoch 10/50\n",
      "2500/2500 [==============================] - 4s 2ms/step - loss: 0.0933 - accuracy: 0.9675 - val_loss: 0.0917 - val_accuracy: 0.9679\n",
      "Epoch 11/50\n",
      "2500/2500 [==============================] - 4s 2ms/step - loss: 0.0909 - accuracy: 0.9689 - val_loss: 0.0889 - val_accuracy: 0.9692\n",
      "Epoch 12/50\n",
      "2500/2500 [==============================] - 4s 2ms/step - loss: 0.0890 - accuracy: 0.9693 - val_loss: 0.0903 - val_accuracy: 0.9695\n",
      "Epoch 13/50\n",
      "2500/2500 [==============================] - 4s 2ms/step - loss: 0.0875 - accuracy: 0.9698 - val_loss: 0.0864 - val_accuracy: 0.9706\n",
      "Epoch 14/50\n",
      "2500/2500 [==============================] - 4s 2ms/step - loss: 0.0864 - accuracy: 0.9701 - val_loss: 0.0845 - val_accuracy: 0.9708\n",
      "Epoch 15/50\n",
      "2500/2500 [==============================] - 4s 2ms/step - loss: 0.0858 - accuracy: 0.9705 - val_loss: 0.0839 - val_accuracy: 0.9713\n",
      "Epoch 16/50\n",
      "2500/2500 [==============================] - 5s 2ms/step - loss: 0.0848 - accuracy: 0.9709 - val_loss: 0.0833 - val_accuracy: 0.9719\n",
      "Epoch 17/50\n",
      "2500/2500 [==============================] - 5s 2ms/step - loss: 0.0843 - accuracy: 0.9708 - val_loss: 0.0859 - val_accuracy: 0.9704\n",
      "Epoch 18/50\n",
      "2500/2500 [==============================] - 4s 2ms/step - loss: 0.0839 - accuracy: 0.9711 - val_loss: 0.0823 - val_accuracy: 0.9719\n",
      "Epoch 19/50\n",
      "2500/2500 [==============================] - 4s 2ms/step - loss: 0.0841 - accuracy: 0.9708 - val_loss: 0.0819 - val_accuracy: 0.9722\n",
      "Epoch 20/50\n",
      "2500/2500 [==============================] - 4s 2ms/step - loss: 0.0835 - accuracy: 0.9712 - val_loss: 0.0838 - val_accuracy: 0.9707\n",
      "Epoch 21/50\n",
      "2500/2500 [==============================] - 4s 2ms/step - loss: 0.0832 - accuracy: 0.9715 - val_loss: 0.0822 - val_accuracy: 0.9718\n",
      "Epoch 22/50\n",
      "2500/2500 [==============================] - 4s 2ms/step - loss: 0.0830 - accuracy: 0.9714 - val_loss: 0.0826 - val_accuracy: 0.9722\n",
      "Epoch 23/50\n",
      "2500/2500 [==============================] - 4s 2ms/step - loss: 0.0827 - accuracy: 0.9714 - val_loss: 0.0828 - val_accuracy: 0.9714\n",
      "Epoch 24/50\n",
      "2500/2500 [==============================] - 4s 2ms/step - loss: 0.0828 - accuracy: 0.9713 - val_loss: 0.0811 - val_accuracy: 0.9722\n",
      "Epoch 25/50\n",
      "2500/2500 [==============================] - 4s 2ms/step - loss: 0.0826 - accuracy: 0.9714 - val_loss: 0.0817 - val_accuracy: 0.9719\n",
      "Epoch 26/50\n",
      "2500/2500 [==============================] - 4s 2ms/step - loss: 0.0827 - accuracy: 0.9715 - val_loss: 0.0822 - val_accuracy: 0.9719\n",
      "Epoch 27/50\n",
      "2500/2500 [==============================] - 4s 2ms/step - loss: 0.0823 - accuracy: 0.9714 - val_loss: 0.0811 - val_accuracy: 0.9721\n",
      "Epoch 28/50\n",
      "2500/2500 [==============================] - 4s 2ms/step - loss: 0.0824 - accuracy: 0.9715 - val_loss: 0.0829 - val_accuracy: 0.9721\n",
      "Epoch 29/50\n",
      "2500/2500 [==============================] - 4s 2ms/step - loss: 0.0820 - accuracy: 0.9717 - val_loss: 0.0813 - val_accuracy: 0.9721\n",
      "Epoch 30/50\n",
      "2500/2500 [==============================] - 4s 2ms/step - loss: 0.0828 - accuracy: 0.9711 - val_loss: 0.0840 - val_accuracy: 0.9706\n",
      "Epoch 31/50\n",
      "2500/2500 [==============================] - 4s 2ms/step - loss: 0.0823 - accuracy: 0.9716 - val_loss: 0.0819 - val_accuracy: 0.9718\n",
      "Epoch 32/50\n",
      "2500/2500 [==============================] - 4s 2ms/step - loss: 0.0820 - accuracy: 0.9716 - val_loss: 0.0826 - val_accuracy: 0.9721\n",
      "Epoch 33/50\n",
      "2500/2500 [==============================] - 4s 2ms/step - loss: 0.0818 - accuracy: 0.9716 - val_loss: 0.0805 - val_accuracy: 0.9722\n",
      "Epoch 34/50\n",
      "2500/2500 [==============================] - 4s 2ms/step - loss: 0.0822 - accuracy: 0.9714 - val_loss: 0.0812 - val_accuracy: 0.9722\n",
      "Epoch 35/50\n",
      "2500/2500 [==============================] - 4s 2ms/step - loss: 0.0819 - accuracy: 0.9717 - val_loss: 0.0818 - val_accuracy: 0.9718\n",
      "Epoch 36/50\n",
      "2500/2500 [==============================] - 4s 2ms/step - loss: 0.0819 - accuracy: 0.9715 - val_loss: 0.0815 - val_accuracy: 0.9720\n",
      "Epoch 37/50\n",
      "2500/2500 [==============================] - 4s 2ms/step - loss: 0.0816 - accuracy: 0.9718 - val_loss: 0.0814 - val_accuracy: 0.9721\n",
      "Epoch 38/50\n",
      "2500/2500 [==============================] - 4s 2ms/step - loss: 0.0818 - accuracy: 0.9715 - val_loss: 0.0808 - val_accuracy: 0.9724\n",
      "Epoch 39/50\n",
      "2500/2500 [==============================] - 4s 2ms/step - loss: 0.0829 - accuracy: 0.9712 - val_loss: 0.0808 - val_accuracy: 0.9725\n",
      "Epoch 40/50\n",
      "2500/2500 [==============================] - 4s 2ms/step - loss: 0.0813 - accuracy: 0.9718 - val_loss: 0.0819 - val_accuracy: 0.9721\n",
      "Epoch 41/50\n",
      "2500/2500 [==============================] - 4s 2ms/step - loss: 0.0817 - accuracy: 0.9717 - val_loss: 0.0817 - val_accuracy: 0.9724\n",
      "Epoch 42/50\n",
      "2500/2500 [==============================] - 4s 2ms/step - loss: 0.0817 - accuracy: 0.9715 - val_loss: 0.0814 - val_accuracy: 0.9720\n",
      "Epoch 43/50\n",
      "2500/2500 [==============================] - 4s 2ms/step - loss: 0.0815 - accuracy: 0.9717 - val_loss: 0.0816 - val_accuracy: 0.9717\n",
      "Epoch 44/50\n",
      "2500/2500 [==============================] - 4s 2ms/step - loss: 0.0823 - accuracy: 0.9714 - val_loss: 0.0987 - val_accuracy: 0.9630\n",
      "Epoch 45/50\n",
      "2500/2500 [==============================] - 4s 2ms/step - loss: 0.0821 - accuracy: 0.9714 - val_loss: 0.0808 - val_accuracy: 0.9722\n",
      "Epoch 46/50\n",
      "2500/2500 [==============================] - 4s 2ms/step - loss: 0.0812 - accuracy: 0.9718 - val_loss: 0.0803 - val_accuracy: 0.9722\n",
      "Epoch 47/50\n",
      "2500/2500 [==============================] - 4s 2ms/step - loss: 0.0814 - accuracy: 0.9718 - val_loss: 0.0809 - val_accuracy: 0.9721\n",
      "Epoch 48/50\n",
      "2500/2500 [==============================] - 4s 2ms/step - loss: 0.0817 - accuracy: 0.9717 - val_loss: 0.0810 - val_accuracy: 0.9725\n",
      "Epoch 49/50\n",
      "2500/2500 [==============================] - 4s 2ms/step - loss: 0.0818 - accuracy: 0.9715 - val_loss: 0.0817 - val_accuracy: 0.9717\n",
      "Epoch 50/50\n",
      "2500/2500 [==============================] - 4s 2ms/step - loss: 0.0816 - accuracy: 0.9718 - val_loss: 0.0805 - val_accuracy: 0.9724\n",
      "625/625 [==============================] - 1s 925us/step\n",
      "Epoch 1/50\n",
      "2500/2500 [==============================] - 5s 2ms/step - loss: 0.1442 - accuracy: 0.9521 - val_loss: 0.1147 - val_accuracy: 0.9596\n",
      "Epoch 2/50\n",
      "2500/2500 [==============================] - 4s 2ms/step - loss: 0.1161 - accuracy: 0.9593 - val_loss: 0.1218 - val_accuracy: 0.9583\n",
      "Epoch 3/50\n",
      "2500/2500 [==============================] - 4s 2ms/step - loss: 0.1137 - accuracy: 0.9604 - val_loss: 0.1111 - val_accuracy: 0.9604\n",
      "Epoch 4/50\n",
      "2500/2500 [==============================] - 4s 2ms/step - loss: 0.1113 - accuracy: 0.9619 - val_loss: 0.1115 - val_accuracy: 0.9620\n",
      "Epoch 5/50\n",
      "2500/2500 [==============================] - 4s 2ms/step - loss: 0.1091 - accuracy: 0.9629 - val_loss: 0.1098 - val_accuracy: 0.9622\n",
      "Epoch 6/50\n",
      "2500/2500 [==============================] - 4s 2ms/step - loss: 0.1076 - accuracy: 0.9637 - val_loss: 0.1070 - val_accuracy: 0.9639\n",
      "Epoch 7/50\n"
     ]
    },
    {
     "name": "stdout",
     "output_type": "stream",
     "text": [
      "2500/2500 [==============================] - 4s 2ms/step - loss: 0.1064 - accuracy: 0.9638 - val_loss: 0.1061 - val_accuracy: 0.9649\n",
      "Epoch 8/50\n",
      "2500/2500 [==============================] - 4s 2ms/step - loss: 0.1045 - accuracy: 0.9641 - val_loss: 0.0997 - val_accuracy: 0.9659\n",
      "Epoch 9/50\n",
      "2500/2500 [==============================] - 5s 2ms/step - loss: 0.1013 - accuracy: 0.9647 - val_loss: 0.1020 - val_accuracy: 0.9631\n",
      "Epoch 10/50\n",
      "2500/2500 [==============================] - 4s 2ms/step - loss: 0.0995 - accuracy: 0.9655 - val_loss: 0.1039 - val_accuracy: 0.9633\n",
      "Epoch 11/50\n",
      "2500/2500 [==============================] - 4s 2ms/step - loss: 0.0989 - accuracy: 0.9661 - val_loss: 0.1015 - val_accuracy: 0.9647\n",
      "Epoch 12/50\n",
      "2500/2500 [==============================] - 4s 1ms/step - loss: 0.0973 - accuracy: 0.9663 - val_loss: 0.0962 - val_accuracy: 0.9667\n",
      "Epoch 13/50\n",
      "2500/2500 [==============================] - 4s 2ms/step - loss: 0.0962 - accuracy: 0.9673 - val_loss: 0.0932 - val_accuracy: 0.9682\n",
      "Epoch 14/50\n",
      "2500/2500 [==============================] - 5s 2ms/step - loss: 0.0938 - accuracy: 0.9681 - val_loss: 0.0925 - val_accuracy: 0.9678\n",
      "Epoch 15/50\n",
      "2500/2500 [==============================] - 5s 2ms/step - loss: 0.0915 - accuracy: 0.9686 - val_loss: 0.0894 - val_accuracy: 0.9706\n",
      "Epoch 16/50\n",
      "2500/2500 [==============================] - 4s 2ms/step - loss: 0.0896 - accuracy: 0.9689 - val_loss: 0.0881 - val_accuracy: 0.9694\n",
      "Epoch 17/50\n",
      "2500/2500 [==============================] - 4s 2ms/step - loss: 0.0880 - accuracy: 0.9698 - val_loss: 0.0877 - val_accuracy: 0.9704\n",
      "Epoch 18/50\n",
      "2500/2500 [==============================] - 4s 2ms/step - loss: 0.0869 - accuracy: 0.9698 - val_loss: 0.0848 - val_accuracy: 0.9711\n",
      "Epoch 19/50\n",
      "2500/2500 [==============================] - 4s 2ms/step - loss: 0.0859 - accuracy: 0.9704 - val_loss: 0.0890 - val_accuracy: 0.9681\n",
      "Epoch 20/50\n",
      "2500/2500 [==============================] - 5s 2ms/step - loss: 0.0854 - accuracy: 0.9704 - val_loss: 0.0852 - val_accuracy: 0.9696\n",
      "Epoch 21/50\n",
      "2500/2500 [==============================] - 5s 2ms/step - loss: 0.0848 - accuracy: 0.9709 - val_loss: 0.0845 - val_accuracy: 0.9701\n",
      "Epoch 22/50\n",
      "2500/2500 [==============================] - 6s 2ms/step - loss: 0.0845 - accuracy: 0.9712 - val_loss: 0.0900 - val_accuracy: 0.9681\n",
      "Epoch 23/50\n",
      "2500/2500 [==============================] - 4s 2ms/step - loss: 0.0841 - accuracy: 0.9710 - val_loss: 0.0833 - val_accuracy: 0.9718\n",
      "Epoch 24/50\n",
      "2500/2500 [==============================] - 4s 2ms/step - loss: 0.0836 - accuracy: 0.9714 - val_loss: 0.0829 - val_accuracy: 0.9714\n",
      "Epoch 25/50\n",
      "2500/2500 [==============================] - 5s 2ms/step - loss: 0.0835 - accuracy: 0.9713 - val_loss: 0.0842 - val_accuracy: 0.9712\n",
      "Epoch 26/50\n",
      "2500/2500 [==============================] - 4s 2ms/step - loss: 0.0835 - accuracy: 0.9714 - val_loss: 0.0845 - val_accuracy: 0.9703\n",
      "Epoch 27/50\n",
      "2500/2500 [==============================] - 5s 2ms/step - loss: 0.0830 - accuracy: 0.9715 - val_loss: 0.0822 - val_accuracy: 0.9719\n",
      "Epoch 28/50\n",
      "2500/2500 [==============================] - 6s 2ms/step - loss: 0.0828 - accuracy: 0.9715 - val_loss: 0.0827 - val_accuracy: 0.9713\n",
      "Epoch 29/50\n",
      "2500/2500 [==============================] - 6s 2ms/step - loss: 0.0828 - accuracy: 0.9716 - val_loss: 0.0828 - val_accuracy: 0.9714\n",
      "Epoch 30/50\n",
      "2500/2500 [==============================] - 4s 2ms/step - loss: 0.0827 - accuracy: 0.9717 - val_loss: 0.0828 - val_accuracy: 0.9715\n",
      "Epoch 31/50\n",
      "2500/2500 [==============================] - 4s 2ms/step - loss: 0.0824 - accuracy: 0.9718 - val_loss: 0.0819 - val_accuracy: 0.9717\n",
      "Epoch 32/50\n",
      "2500/2500 [==============================] - 4s 2ms/step - loss: 0.0824 - accuracy: 0.9716 - val_loss: 0.0818 - val_accuracy: 0.9718\n",
      "Epoch 33/50\n",
      "2500/2500 [==============================] - 5s 2ms/step - loss: 0.0823 - accuracy: 0.9718 - val_loss: 0.0817 - val_accuracy: 0.9718\n",
      "Epoch 34/50\n",
      "2500/2500 [==============================] - 5s 2ms/step - loss: 0.0821 - accuracy: 0.9717 - val_loss: 0.0824 - val_accuracy: 0.9718\n",
      "Epoch 35/50\n",
      "2500/2500 [==============================] - 4s 2ms/step - loss: 0.0824 - accuracy: 0.9715 - val_loss: 0.0830 - val_accuracy: 0.9715\n",
      "Epoch 36/50\n",
      "2500/2500 [==============================] - 5s 2ms/step - loss: 0.0819 - accuracy: 0.9718 - val_loss: 0.0834 - val_accuracy: 0.9721\n",
      "Epoch 37/50\n",
      "2500/2500 [==============================] - 4s 2ms/step - loss: 0.0825 - accuracy: 0.9714 - val_loss: 0.0826 - val_accuracy: 0.9719\n",
      "Epoch 38/50\n",
      "2500/2500 [==============================] - 4s 1ms/step - loss: 0.0822 - accuracy: 0.9716 - val_loss: 0.0820 - val_accuracy: 0.9716\n",
      "Epoch 39/50\n",
      "2500/2500 [==============================] - 4s 2ms/step - loss: 0.0821 - accuracy: 0.9717 - val_loss: 0.0819 - val_accuracy: 0.9715\n",
      "Epoch 40/50\n",
      "2500/2500 [==============================] - 4s 2ms/step - loss: 0.0821 - accuracy: 0.9716 - val_loss: 0.0872 - val_accuracy: 0.9685\n",
      "Epoch 41/50\n",
      "2500/2500 [==============================] - 4s 2ms/step - loss: 0.0816 - accuracy: 0.9719 - val_loss: 0.0821 - val_accuracy: 0.9715\n",
      "Epoch 42/50\n",
      "2500/2500 [==============================] - 5s 2ms/step - loss: 0.0817 - accuracy: 0.9719 - val_loss: 0.0814 - val_accuracy: 0.9719\n",
      "Epoch 43/50\n",
      "2500/2500 [==============================] - 4s 1ms/step - loss: 0.0817 - accuracy: 0.9719 - val_loss: 0.0817 - val_accuracy: 0.9718\n",
      "Epoch 44/50\n",
      "2500/2500 [==============================] - 5s 2ms/step - loss: 0.0817 - accuracy: 0.9718 - val_loss: 0.0822 - val_accuracy: 0.9717\n",
      "Epoch 45/50\n",
      "2500/2500 [==============================] - 5s 2ms/step - loss: 0.0820 - accuracy: 0.9714 - val_loss: 0.0842 - val_accuracy: 0.9703\n",
      "Epoch 46/50\n",
      "2500/2500 [==============================] - 5s 2ms/step - loss: 0.0823 - accuracy: 0.9715 - val_loss: 0.0845 - val_accuracy: 0.9708\n",
      "Epoch 47/50\n",
      "2500/2500 [==============================] - 4s 2ms/step - loss: 0.0819 - accuracy: 0.9716 - val_loss: 0.0818 - val_accuracy: 0.9715\n",
      "Epoch 48/50\n",
      "2500/2500 [==============================] - 4s 2ms/step - loss: 0.0817 - accuracy: 0.9717 - val_loss: 0.0816 - val_accuracy: 0.9718\n",
      "Epoch 49/50\n",
      "2500/2500 [==============================] - 5s 2ms/step - loss: 0.0818 - accuracy: 0.9719 - val_loss: 0.0817 - val_accuracy: 0.9719\n",
      "Epoch 50/50\n",
      "2500/2500 [==============================] - 5s 2ms/step - loss: 0.0816 - accuracy: 0.9716 - val_loss: 0.0824 - val_accuracy: 0.9715\n",
      "625/625 [==============================] - 1s 987us/step\n",
      "Epoch 1/50\n",
      "2500/2500 [==============================] - 5s 2ms/step - loss: 0.1448 - accuracy: 0.9522 - val_loss: 0.1162 - val_accuracy: 0.9604\n",
      "Epoch 2/50\n",
      "2500/2500 [==============================] - 5s 2ms/step - loss: 0.1151 - accuracy: 0.9593 - val_loss: 0.1137 - val_accuracy: 0.9621\n",
      "Epoch 3/50\n",
      "2500/2500 [==============================] - 4s 2ms/step - loss: 0.1100 - accuracy: 0.9626 - val_loss: 0.1102 - val_accuracy: 0.9638\n",
      "Epoch 4/50\n",
      "2500/2500 [==============================] - 4s 2ms/step - loss: 0.1065 - accuracy: 0.9638 - val_loss: 0.1037 - val_accuracy: 0.9663\n",
      "Epoch 5/50\n",
      "2500/2500 [==============================] - 4s 2ms/step - loss: 0.1025 - accuracy: 0.9653 - val_loss: 0.1025 - val_accuracy: 0.9657\n",
      "Epoch 6/50\n",
      "2500/2500 [==============================] - 5s 2ms/step - loss: 0.0993 - accuracy: 0.9667 - val_loss: 0.1048 - val_accuracy: 0.9647\n",
      "Epoch 7/50\n",
      "2500/2500 [==============================] - 4s 2ms/step - loss: 0.0965 - accuracy: 0.9677 - val_loss: 0.1016 - val_accuracy: 0.9662\n",
      "Epoch 8/50\n",
      "2500/2500 [==============================] - 4s 2ms/step - loss: 0.0944 - accuracy: 0.9687 - val_loss: 0.0977 - val_accuracy: 0.9673\n",
      "Epoch 9/50\n",
      "2500/2500 [==============================] - 4s 2ms/step - loss: 0.0924 - accuracy: 0.9690 - val_loss: 0.0927 - val_accuracy: 0.9680\n",
      "Epoch 10/50\n",
      "2500/2500 [==============================] - 4s 2ms/step - loss: 0.0895 - accuracy: 0.9696 - val_loss: 0.0896 - val_accuracy: 0.9699\n",
      "Epoch 11/50\n",
      "2500/2500 [==============================] - 4s 2ms/step - loss: 0.0880 - accuracy: 0.9697 - val_loss: 0.0895 - val_accuracy: 0.9689\n",
      "Epoch 12/50\n",
      "2500/2500 [==============================] - 5s 2ms/step - loss: 0.0864 - accuracy: 0.9703 - val_loss: 0.0878 - val_accuracy: 0.9693\n",
      "Epoch 13/50\n"
     ]
    },
    {
     "name": "stdout",
     "output_type": "stream",
     "text": [
      "2500/2500 [==============================] - 5s 2ms/step - loss: 0.0861 - accuracy: 0.9700 - val_loss: 0.0861 - val_accuracy: 0.9704\n",
      "Epoch 14/50\n",
      "2500/2500 [==============================] - 4s 2ms/step - loss: 0.0853 - accuracy: 0.9706 - val_loss: 0.0870 - val_accuracy: 0.9701\n",
      "Epoch 15/50\n",
      "2500/2500 [==============================] - 6s 2ms/step - loss: 0.0849 - accuracy: 0.9706 - val_loss: 0.0898 - val_accuracy: 0.9679\n",
      "Epoch 16/50\n",
      "2500/2500 [==============================] - 5s 2ms/step - loss: 0.0844 - accuracy: 0.9706 - val_loss: 0.0867 - val_accuracy: 0.9704\n",
      "Epoch 17/50\n",
      "2500/2500 [==============================] - 4s 1ms/step - loss: 0.0841 - accuracy: 0.9710 - val_loss: 0.0865 - val_accuracy: 0.9693\n",
      "Epoch 18/50\n",
      "2500/2500 [==============================] - 4s 1ms/step - loss: 0.0842 - accuracy: 0.9708 - val_loss: 0.0851 - val_accuracy: 0.9707\n",
      "Epoch 19/50\n",
      "2500/2500 [==============================] - 4s 1ms/step - loss: 0.0837 - accuracy: 0.9711 - val_loss: 0.0891 - val_accuracy: 0.9685\n",
      "Epoch 20/50\n",
      "2500/2500 [==============================] - 4s 1ms/step - loss: 0.0832 - accuracy: 0.9714 - val_loss: 0.0874 - val_accuracy: 0.9703\n",
      "Epoch 21/50\n",
      "2500/2500 [==============================] - 4s 1ms/step - loss: 0.0835 - accuracy: 0.9712 - val_loss: 0.0847 - val_accuracy: 0.9709\n",
      "Epoch 22/50\n",
      "2500/2500 [==============================] - 4s 1ms/step - loss: 0.0831 - accuracy: 0.9713 - val_loss: 0.0846 - val_accuracy: 0.9703\n",
      "Epoch 23/50\n",
      "2500/2500 [==============================] - 5s 2ms/step - loss: 0.0829 - accuracy: 0.9714 - val_loss: 0.0890 - val_accuracy: 0.9675\n",
      "Epoch 24/50\n",
      "2500/2500 [==============================] - 4s 1ms/step - loss: 0.0827 - accuracy: 0.9715 - val_loss: 0.0843 - val_accuracy: 0.9711\n",
      "Epoch 25/50\n",
      "2500/2500 [==============================] - 4s 1ms/step - loss: 0.0827 - accuracy: 0.9713 - val_loss: 0.0846 - val_accuracy: 0.9704\n",
      "Epoch 26/50\n",
      "2500/2500 [==============================] - 4s 1ms/step - loss: 0.0828 - accuracy: 0.9714 - val_loss: 0.0850 - val_accuracy: 0.9708\n",
      "Epoch 27/50\n",
      "2500/2500 [==============================] - 5s 2ms/step - loss: 0.0820 - accuracy: 0.9718 - val_loss: 0.0960 - val_accuracy: 0.9633\n",
      "Epoch 28/50\n",
      "2500/2500 [==============================] - 4s 1ms/step - loss: 0.0823 - accuracy: 0.9717 - val_loss: 0.0852 - val_accuracy: 0.9711\n",
      "Epoch 29/50\n",
      "2500/2500 [==============================] - 4s 2ms/step - loss: 0.0819 - accuracy: 0.9718 - val_loss: 0.0853 - val_accuracy: 0.9704\n",
      "Epoch 30/50\n",
      "2500/2500 [==============================] - 4s 2ms/step - loss: 0.0821 - accuracy: 0.9719 - val_loss: 0.0840 - val_accuracy: 0.9712\n",
      "Epoch 31/50\n",
      "2500/2500 [==============================] - 4s 1ms/step - loss: 0.0817 - accuracy: 0.9717 - val_loss: 0.0856 - val_accuracy: 0.9709\n",
      "Epoch 32/50\n",
      "2500/2500 [==============================] - 5s 2ms/step - loss: 0.0822 - accuracy: 0.9716 - val_loss: 0.0842 - val_accuracy: 0.9710\n",
      "Epoch 33/50\n",
      "2500/2500 [==============================] - 4s 2ms/step - loss: 0.0819 - accuracy: 0.9718 - val_loss: 0.0972 - val_accuracy: 0.9650\n",
      "Epoch 34/50\n",
      "2500/2500 [==============================] - 6s 2ms/step - loss: 0.0819 - accuracy: 0.9719 - val_loss: 0.0850 - val_accuracy: 0.9700\n",
      "Epoch 35/50\n",
      "2500/2500 [==============================] - 6s 3ms/step - loss: 0.0819 - accuracy: 0.9719 - val_loss: 0.0840 - val_accuracy: 0.9710\n",
      "Epoch 36/50\n",
      "2500/2500 [==============================] - 4s 2ms/step - loss: 0.0819 - accuracy: 0.9720 - val_loss: 0.0838 - val_accuracy: 0.9709\n",
      "Epoch 37/50\n",
      "2500/2500 [==============================] - 4s 2ms/step - loss: 0.0816 - accuracy: 0.9720 - val_loss: 0.0838 - val_accuracy: 0.9712\n",
      "Epoch 38/50\n",
      "2500/2500 [==============================] - 4s 2ms/step - loss: 0.0817 - accuracy: 0.9717 - val_loss: 0.0837 - val_accuracy: 0.9711\n",
      "Epoch 39/50\n",
      "2500/2500 [==============================] - 5s 2ms/step - loss: 0.0815 - accuracy: 0.9720 - val_loss: 0.0850 - val_accuracy: 0.9700\n",
      "Epoch 40/50\n",
      "2500/2500 [==============================] - 4s 2ms/step - loss: 0.0816 - accuracy: 0.9719 - val_loss: 0.0855 - val_accuracy: 0.9714\n",
      "Epoch 41/50\n",
      "2500/2500 [==============================] - 4s 2ms/step - loss: 0.0819 - accuracy: 0.9716 - val_loss: 0.0839 - val_accuracy: 0.9710\n",
      "Epoch 42/50\n",
      "2500/2500 [==============================] - 4s 2ms/step - loss: 0.0811 - accuracy: 0.9720 - val_loss: 0.0845 - val_accuracy: 0.9711\n",
      "Epoch 43/50\n",
      "2500/2500 [==============================] - 4s 2ms/step - loss: 0.0821 - accuracy: 0.9716 - val_loss: 0.0839 - val_accuracy: 0.9714\n",
      "Epoch 44/50\n",
      "2500/2500 [==============================] - 4s 2ms/step - loss: 0.0819 - accuracy: 0.9717 - val_loss: 0.0851 - val_accuracy: 0.9711\n",
      "Epoch 45/50\n",
      "2500/2500 [==============================] - 4s 2ms/step - loss: 0.0813 - accuracy: 0.9721 - val_loss: 0.0831 - val_accuracy: 0.9707\n",
      "Epoch 46/50\n",
      "2500/2500 [==============================] - 4s 2ms/step - loss: 0.0811 - accuracy: 0.9721 - val_loss: 0.0841 - val_accuracy: 0.9711\n",
      "Epoch 47/50\n",
      "2500/2500 [==============================] - 4s 2ms/step - loss: 0.0813 - accuracy: 0.9719 - val_loss: 0.0843 - val_accuracy: 0.9711\n",
      "Epoch 48/50\n",
      "2500/2500 [==============================] - 4s 2ms/step - loss: 0.0810 - accuracy: 0.9721 - val_loss: 0.0842 - val_accuracy: 0.9710\n",
      "Epoch 49/50\n",
      "2500/2500 [==============================] - 4s 2ms/step - loss: 0.0810 - accuracy: 0.9721 - val_loss: 0.0835 - val_accuracy: 0.9714\n",
      "Epoch 50/50\n",
      "2500/2500 [==============================] - 4s 2ms/step - loss: 0.0807 - accuracy: 0.9722 - val_loss: 0.0843 - val_accuracy: 0.9714\n",
      "625/625 [==============================] - 1s 925us/step\n",
      "Epoch 1/50\n",
      "2500/2500 [==============================] - 5s 2ms/step - loss: 0.1451 - accuracy: 0.9521 - val_loss: 0.1159 - val_accuracy: 0.9584\n",
      "Epoch 2/50\n",
      "2500/2500 [==============================] - 5s 2ms/step - loss: 0.1167 - accuracy: 0.9586 - val_loss: 0.1164 - val_accuracy: 0.9577\n",
      "Epoch 3/50\n",
      "2500/2500 [==============================] - 5s 2ms/step - loss: 0.1156 - accuracy: 0.9597 - val_loss: 0.1186 - val_accuracy: 0.9616\n",
      "Epoch 4/50\n",
      "2500/2500 [==============================] - 4s 1ms/step - loss: 0.1125 - accuracy: 0.9614 - val_loss: 0.1069 - val_accuracy: 0.9632\n",
      "Epoch 5/50\n",
      "2500/2500 [==============================] - 4s 2ms/step - loss: 0.1110 - accuracy: 0.9625 - val_loss: 0.1186 - val_accuracy: 0.9549\n",
      "Epoch 6/50\n",
      "2500/2500 [==============================] - 5s 2ms/step - loss: 0.1099 - accuracy: 0.9629 - val_loss: 0.1142 - val_accuracy: 0.9573\n",
      "Epoch 7/50\n",
      "2500/2500 [==============================] - 4s 2ms/step - loss: 0.1079 - accuracy: 0.9632 - val_loss: 0.1007 - val_accuracy: 0.9660\n",
      "Epoch 8/50\n",
      "2500/2500 [==============================] - 5s 2ms/step - loss: 0.1055 - accuracy: 0.9646 - val_loss: 0.1026 - val_accuracy: 0.9649\n",
      "Epoch 9/50\n",
      "2500/2500 [==============================] - 5s 2ms/step - loss: 0.1032 - accuracy: 0.9650 - val_loss: 0.0984 - val_accuracy: 0.9676\n",
      "Epoch 10/50\n",
      "2500/2500 [==============================] - 5s 2ms/step - loss: 0.1011 - accuracy: 0.9656 - val_loss: 0.0973 - val_accuracy: 0.9676\n",
      "Epoch 11/50\n",
      "2500/2500 [==============================] - 4s 2ms/step - loss: 0.0990 - accuracy: 0.9667 - val_loss: 0.0932 - val_accuracy: 0.9696\n",
      "Epoch 12/50\n",
      "2500/2500 [==============================] - 4s 2ms/step - loss: 0.0970 - accuracy: 0.9674 - val_loss: 0.0923 - val_accuracy: 0.9682\n",
      "Epoch 13/50\n",
      "2500/2500 [==============================] - 4s 2ms/step - loss: 0.0943 - accuracy: 0.9683 - val_loss: 0.0873 - val_accuracy: 0.9710\n",
      "Epoch 14/50\n",
      "2500/2500 [==============================] - 4s 2ms/step - loss: 0.0914 - accuracy: 0.9688 - val_loss: 0.0850 - val_accuracy: 0.9707\n",
      "Epoch 15/50\n",
      "2500/2500 [==============================] - 4s 1ms/step - loss: 0.0893 - accuracy: 0.9690 - val_loss: 0.0848 - val_accuracy: 0.9711\n",
      "Epoch 16/50\n",
      "2500/2500 [==============================] - 4s 1ms/step - loss: 0.0880 - accuracy: 0.9696 - val_loss: 0.0834 - val_accuracy: 0.9706\n",
      "Epoch 17/50\n",
      "2500/2500 [==============================] - 4s 1ms/step - loss: 0.0870 - accuracy: 0.9699 - val_loss: 0.0885 - val_accuracy: 0.9676\n",
      "Epoch 18/50\n",
      "2500/2500 [==============================] - 4s 1ms/step - loss: 0.0868 - accuracy: 0.9700 - val_loss: 0.0804 - val_accuracy: 0.9722\n",
      "Epoch 19/50\n"
     ]
    },
    {
     "name": "stdout",
     "output_type": "stream",
     "text": [
      "2500/2500 [==============================] - 4s 2ms/step - loss: 0.0860 - accuracy: 0.9704 - val_loss: 0.0823 - val_accuracy: 0.9708\n",
      "Epoch 20/50\n",
      "2500/2500 [==============================] - 4s 1ms/step - loss: 0.0857 - accuracy: 0.9705 - val_loss: 0.0814 - val_accuracy: 0.9720\n",
      "Epoch 21/50\n",
      "2500/2500 [==============================] - 4s 1ms/step - loss: 0.0858 - accuracy: 0.9701 - val_loss: 0.0801 - val_accuracy: 0.9725\n",
      "Epoch 22/50\n",
      "2500/2500 [==============================] - 4s 1ms/step - loss: 0.0851 - accuracy: 0.9705 - val_loss: 0.0800 - val_accuracy: 0.9719\n",
      "Epoch 23/50\n",
      "2500/2500 [==============================] - 4s 1ms/step - loss: 0.0849 - accuracy: 0.9706 - val_loss: 0.0798 - val_accuracy: 0.9727\n",
      "Epoch 24/50\n",
      "2500/2500 [==============================] - 4s 1ms/step - loss: 0.0849 - accuracy: 0.9705 - val_loss: 0.0799 - val_accuracy: 0.9724\n",
      "Epoch 25/50\n",
      "2500/2500 [==============================] - 4s 1ms/step - loss: 0.0842 - accuracy: 0.9709 - val_loss: 0.0806 - val_accuracy: 0.9718\n",
      "Epoch 26/50\n",
      "2500/2500 [==============================] - 4s 1ms/step - loss: 0.0842 - accuracy: 0.9709 - val_loss: 0.0796 - val_accuracy: 0.9726\n",
      "Epoch 27/50\n",
      "2500/2500 [==============================] - 5s 2ms/step - loss: 0.0843 - accuracy: 0.9709 - val_loss: 0.0788 - val_accuracy: 0.9726\n",
      "Epoch 28/50\n",
      "2500/2500 [==============================] - 4s 2ms/step - loss: 0.0844 - accuracy: 0.9708 - val_loss: 0.0794 - val_accuracy: 0.9722\n",
      "Epoch 29/50\n",
      "2500/2500 [==============================] - 5s 2ms/step - loss: 0.0840 - accuracy: 0.9709 - val_loss: 0.0793 - val_accuracy: 0.9719\n",
      "Epoch 30/50\n",
      "2500/2500 [==============================] - 4s 2ms/step - loss: 0.0841 - accuracy: 0.9711 - val_loss: 0.0785 - val_accuracy: 0.9728\n",
      "Epoch 31/50\n",
      "2500/2500 [==============================] - 4s 2ms/step - loss: 0.0836 - accuracy: 0.9714 - val_loss: 0.0787 - val_accuracy: 0.9725\n",
      "Epoch 32/50\n",
      "2500/2500 [==============================] - 4s 2ms/step - loss: 0.0838 - accuracy: 0.9711 - val_loss: 0.0784 - val_accuracy: 0.9727\n",
      "Epoch 33/50\n",
      "2500/2500 [==============================] - 4s 2ms/step - loss: 0.0839 - accuracy: 0.9712 - val_loss: 0.0791 - val_accuracy: 0.9724\n",
      "Epoch 34/50\n",
      "2500/2500 [==============================] - 4s 2ms/step - loss: 0.0837 - accuracy: 0.9709 - val_loss: 0.0933 - val_accuracy: 0.9639\n",
      "Epoch 35/50\n",
      "2500/2500 [==============================] - 4s 2ms/step - loss: 0.0842 - accuracy: 0.9708 - val_loss: 0.0795 - val_accuracy: 0.9721\n",
      "Epoch 36/50\n",
      "2500/2500 [==============================] - 4s 2ms/step - loss: 0.0832 - accuracy: 0.9712 - val_loss: 0.0816 - val_accuracy: 0.9720\n",
      "Epoch 37/50\n",
      "2500/2500 [==============================] - 4s 2ms/step - loss: 0.0834 - accuracy: 0.9713 - val_loss: 0.0782 - val_accuracy: 0.9724\n",
      "Epoch 38/50\n",
      "2500/2500 [==============================] - 4s 2ms/step - loss: 0.0828 - accuracy: 0.9715 - val_loss: 0.0785 - val_accuracy: 0.9727\n",
      "Epoch 39/50\n",
      "2500/2500 [==============================] - 4s 2ms/step - loss: 0.0829 - accuracy: 0.9713 - val_loss: 0.0784 - val_accuracy: 0.9730\n",
      "Epoch 40/50\n",
      "2500/2500 [==============================] - 6s 2ms/step - loss: 0.0831 - accuracy: 0.9714 - val_loss: 0.0780 - val_accuracy: 0.9729\n",
      "Epoch 41/50\n",
      "2500/2500 [==============================] - 7s 3ms/step - loss: 0.0831 - accuracy: 0.9715 - val_loss: 0.0808 - val_accuracy: 0.9721\n",
      "Epoch 42/50\n",
      "2500/2500 [==============================] - 5s 2ms/step - loss: 0.0828 - accuracy: 0.9715 - val_loss: 0.0784 - val_accuracy: 0.9726\n",
      "Epoch 43/50\n",
      "2500/2500 [==============================] - 4s 2ms/step - loss: 0.0830 - accuracy: 0.9714 - val_loss: 0.0788 - val_accuracy: 0.9729\n",
      "Epoch 44/50\n",
      "2500/2500 [==============================] - 5s 2ms/step - loss: 0.0831 - accuracy: 0.9712 - val_loss: 0.0796 - val_accuracy: 0.9722\n",
      "Epoch 45/50\n",
      "2500/2500 [==============================] - 4s 2ms/step - loss: 0.0829 - accuracy: 0.9716 - val_loss: 0.0784 - val_accuracy: 0.9729\n",
      "Epoch 46/50\n",
      "2500/2500 [==============================] - 4s 2ms/step - loss: 0.0829 - accuracy: 0.9713 - val_loss: 0.0793 - val_accuracy: 0.9719\n",
      "Epoch 47/50\n",
      "2500/2500 [==============================] - 4s 2ms/step - loss: 0.0827 - accuracy: 0.9714 - val_loss: 0.0815 - val_accuracy: 0.9715\n",
      "Epoch 48/50\n",
      "2500/2500 [==============================] - 4s 2ms/step - loss: 0.0826 - accuracy: 0.9717 - val_loss: 0.0778 - val_accuracy: 0.9729\n",
      "Epoch 49/50\n",
      "2500/2500 [==============================] - 5s 2ms/step - loss: 0.0826 - accuracy: 0.9717 - val_loss: 0.0780 - val_accuracy: 0.9732\n",
      "Epoch 50/50\n",
      "2500/2500 [==============================] - 4s 2ms/step - loss: 0.0832 - accuracy: 0.9711 - val_loss: 0.0777 - val_accuracy: 0.9730\n",
      "625/625 [==============================] - 1s 1ms/step\n",
      "Epoch 1/50\n",
      "2500/2500 [==============================] - 7s 2ms/step - loss: 0.1453 - accuracy: 0.9500 - val_loss: 0.1160 - val_accuracy: 0.9590\n",
      "Epoch 2/50\n",
      "2500/2500 [==============================] - 4s 2ms/step - loss: 0.1154 - accuracy: 0.9601 - val_loss: 0.1149 - val_accuracy: 0.9589\n",
      "Epoch 3/50\n",
      "2500/2500 [==============================] - 4s 2ms/step - loss: 0.1126 - accuracy: 0.9616 - val_loss: 0.1100 - val_accuracy: 0.9620\n",
      "Epoch 4/50\n",
      "2500/2500 [==============================] - 5s 2ms/step - loss: 0.1089 - accuracy: 0.9629 - val_loss: 0.1051 - val_accuracy: 0.9643\n",
      "Epoch 5/50\n",
      "2500/2500 [==============================] - 4s 2ms/step - loss: 0.1019 - accuracy: 0.9656 - val_loss: 0.0989 - val_accuracy: 0.9665\n",
      "Epoch 6/50\n",
      "2500/2500 [==============================] - 4s 2ms/step - loss: 0.0964 - accuracy: 0.9676 - val_loss: 0.0978 - val_accuracy: 0.9663\n",
      "Epoch 7/50\n",
      "2500/2500 [==============================] - 4s 2ms/step - loss: 0.0932 - accuracy: 0.9686 - val_loss: 0.0936 - val_accuracy: 0.9675\n",
      "Epoch 8/50\n",
      "2500/2500 [==============================] - 4s 2ms/step - loss: 0.0908 - accuracy: 0.9693 - val_loss: 0.0918 - val_accuracy: 0.9696\n",
      "Epoch 9/50\n",
      "2500/2500 [==============================] - 5s 2ms/step - loss: 0.0877 - accuracy: 0.9698 - val_loss: 0.0922 - val_accuracy: 0.9692\n",
      "Epoch 10/50\n",
      "2500/2500 [==============================] - 4s 2ms/step - loss: 0.0867 - accuracy: 0.9698 - val_loss: 0.0881 - val_accuracy: 0.9696\n",
      "Epoch 11/50\n",
      "2500/2500 [==============================] - 4s 1ms/step - loss: 0.0853 - accuracy: 0.9707 - val_loss: 0.0899 - val_accuracy: 0.9697\n",
      "Epoch 12/50\n",
      "2500/2500 [==============================] - 4s 2ms/step - loss: 0.0846 - accuracy: 0.9707 - val_loss: 0.0878 - val_accuracy: 0.9707\n",
      "Epoch 13/50\n",
      "2500/2500 [==============================] - 4s 1ms/step - loss: 0.0845 - accuracy: 0.9708 - val_loss: 0.0865 - val_accuracy: 0.9708\n",
      "Epoch 14/50\n",
      "2500/2500 [==============================] - 4s 1ms/step - loss: 0.0839 - accuracy: 0.9707 - val_loss: 0.0868 - val_accuracy: 0.9710\n",
      "Epoch 15/50\n",
      "2500/2500 [==============================] - 4s 1ms/step - loss: 0.0836 - accuracy: 0.9711 - val_loss: 0.0878 - val_accuracy: 0.9705\n",
      "Epoch 16/50\n",
      "2500/2500 [==============================] - 4s 2ms/step - loss: 0.0828 - accuracy: 0.9713 - val_loss: 0.0858 - val_accuracy: 0.9708\n",
      "Epoch 17/50\n",
      "2500/2500 [==============================] - 4s 2ms/step - loss: 0.0828 - accuracy: 0.9712 - val_loss: 0.0896 - val_accuracy: 0.9689\n",
      "Epoch 18/50\n",
      "2500/2500 [==============================] - 5s 2ms/step - loss: 0.0832 - accuracy: 0.9710 - val_loss: 0.0967 - val_accuracy: 0.9651\n",
      "Epoch 19/50\n",
      "2500/2500 [==============================] - 4s 2ms/step - loss: 0.0830 - accuracy: 0.9712 - val_loss: 0.0854 - val_accuracy: 0.9711\n",
      "Epoch 20/50\n",
      "2500/2500 [==============================] - 5s 2ms/step - loss: 0.0824 - accuracy: 0.9713 - val_loss: 0.0860 - val_accuracy: 0.9708\n",
      "Epoch 21/50\n",
      "2500/2500 [==============================] - 4s 2ms/step - loss: 0.0824 - accuracy: 0.9711 - val_loss: 0.0874 - val_accuracy: 0.9697\n",
      "Epoch 22/50\n",
      "2500/2500 [==============================] - 4s 2ms/step - loss: 0.0823 - accuracy: 0.9712 - val_loss: 0.0869 - val_accuracy: 0.9702\n",
      "Epoch 23/50\n",
      "2500/2500 [==============================] - 4s 2ms/step - loss: 0.0823 - accuracy: 0.9714 - val_loss: 0.0864 - val_accuracy: 0.9700\n",
      "Epoch 24/50\n",
      "2500/2500 [==============================] - 5s 2ms/step - loss: 0.0821 - accuracy: 0.9715 - val_loss: 0.0873 - val_accuracy: 0.9688\n",
      "Epoch 25/50\n"
     ]
    },
    {
     "name": "stdout",
     "output_type": "stream",
     "text": [
      "2500/2500 [==============================] - 4s 2ms/step - loss: 0.0827 - accuracy: 0.9711 - val_loss: 0.0861 - val_accuracy: 0.9714\n",
      "Epoch 26/50\n",
      "2500/2500 [==============================] - 4s 2ms/step - loss: 0.0815 - accuracy: 0.9719 - val_loss: 0.0854 - val_accuracy: 0.9707\n",
      "Epoch 27/50\n",
      "2500/2500 [==============================] - 4s 2ms/step - loss: 0.0818 - accuracy: 0.9716 - val_loss: 0.0848 - val_accuracy: 0.9715\n",
      "Epoch 28/50\n",
      "2500/2500 [==============================] - 4s 2ms/step - loss: 0.0815 - accuracy: 0.9718 - val_loss: 0.0858 - val_accuracy: 0.9704\n",
      "Epoch 29/50\n",
      "2500/2500 [==============================] - 4s 2ms/step - loss: 0.0815 - accuracy: 0.9716 - val_loss: 0.0873 - val_accuracy: 0.9698\n",
      "Epoch 30/50\n",
      "2500/2500 [==============================] - 6s 2ms/step - loss: 0.0819 - accuracy: 0.9714 - val_loss: 0.0952 - val_accuracy: 0.9667\n",
      "Epoch 31/50\n",
      "2500/2500 [==============================] - 4s 2ms/step - loss: 0.0815 - accuracy: 0.9716 - val_loss: 0.0872 - val_accuracy: 0.9692\n",
      "Epoch 32/50\n",
      "2500/2500 [==============================] - 4s 2ms/step - loss: 0.0818 - accuracy: 0.9715 - val_loss: 0.0858 - val_accuracy: 0.9711\n",
      "Epoch 33/50\n",
      "2500/2500 [==============================] - 5s 2ms/step - loss: 0.0814 - accuracy: 0.9718 - val_loss: 0.0845 - val_accuracy: 0.9716\n",
      "Epoch 34/50\n",
      "2500/2500 [==============================] - 4s 2ms/step - loss: 0.0812 - accuracy: 0.9719 - val_loss: 0.0850 - val_accuracy: 0.9715\n",
      "Epoch 35/50\n",
      "2500/2500 [==============================] - 4s 2ms/step - loss: 0.0818 - accuracy: 0.9716 - val_loss: 0.0848 - val_accuracy: 0.9715\n",
      "Epoch 36/50\n",
      "2500/2500 [==============================] - 4s 2ms/step - loss: 0.0812 - accuracy: 0.9720 - val_loss: 0.0922 - val_accuracy: 0.9667\n",
      "Epoch 37/50\n",
      "2500/2500 [==============================] - 4s 2ms/step - loss: 0.0814 - accuracy: 0.9720 - val_loss: 0.0845 - val_accuracy: 0.9714\n",
      "Epoch 38/50\n",
      "2500/2500 [==============================] - 4s 2ms/step - loss: 0.0814 - accuracy: 0.9716 - val_loss: 0.0842 - val_accuracy: 0.9714\n",
      "Epoch 39/50\n",
      "2500/2500 [==============================] - 4s 2ms/step - loss: 0.0814 - accuracy: 0.9718 - val_loss: 0.0848 - val_accuracy: 0.9713\n",
      "Epoch 40/50\n",
      "2500/2500 [==============================] - 4s 2ms/step - loss: 0.0809 - accuracy: 0.9720 - val_loss: 0.0855 - val_accuracy: 0.9711\n",
      "Epoch 41/50\n",
      "2500/2500 [==============================] - 4s 2ms/step - loss: 0.0813 - accuracy: 0.9717 - val_loss: 0.0875 - val_accuracy: 0.9700\n",
      "Epoch 42/50\n",
      "2500/2500 [==============================] - 4s 2ms/step - loss: 0.0808 - accuracy: 0.9718 - val_loss: 0.0847 - val_accuracy: 0.9707\n",
      "Epoch 43/50\n",
      "2500/2500 [==============================] - 4s 2ms/step - loss: 0.0807 - accuracy: 0.9721 - val_loss: 0.0855 - val_accuracy: 0.9708\n",
      "Epoch 44/50\n",
      "2500/2500 [==============================] - 5s 2ms/step - loss: 0.0811 - accuracy: 0.9718 - val_loss: 0.0854 - val_accuracy: 0.9716\n",
      "Epoch 45/50\n",
      "2500/2500 [==============================] - 4s 2ms/step - loss: 0.0807 - accuracy: 0.9719 - val_loss: 0.0860 - val_accuracy: 0.9714\n",
      "Epoch 46/50\n",
      "2500/2500 [==============================] - 4s 2ms/step - loss: 0.0812 - accuracy: 0.9718 - val_loss: 0.0868 - val_accuracy: 0.9707\n",
      "Epoch 47/50\n",
      "2500/2500 [==============================] - 4s 2ms/step - loss: 0.0812 - accuracy: 0.9718 - val_loss: 0.0844 - val_accuracy: 0.9715\n",
      "Epoch 48/50\n",
      "2500/2500 [==============================] - 5s 2ms/step - loss: 0.0806 - accuracy: 0.9720 - val_loss: 0.0867 - val_accuracy: 0.9703\n",
      "Epoch 49/50\n",
      "2500/2500 [==============================] - 4s 1ms/step - loss: 0.0809 - accuracy: 0.9719 - val_loss: 0.0874 - val_accuracy: 0.9699\n",
      "Epoch 50/50\n",
      "2500/2500 [==============================] - 4s 2ms/step - loss: 0.0808 - accuracy: 0.9720 - val_loss: 0.0887 - val_accuracy: 0.9693\n",
      "625/625 [==============================] - 1s 930us/step\n",
      "Precision Scores: [0.9906621392190152, 0.9901168014375562, 0.9818780889621087, 0.9840871021775545, 0.9864864864864865]\n",
      "Mean Precision: 0.9866461236565442\n",
      "Recall Scores: [0.6832552693208431, 0.6634557495484648, 0.6842709529276694, 0.6932153392330384, 0.6463990554899646]\n",
      "Mean Recall: 0.6741192733039961\n",
      "F1 Scores: [0.8087318087318088, 0.7945205479452055, 0.8064952638700946, 0.8134302526825892, 0.7810271041369472]\n",
      "Mean F1-score: 0.800840995473329\n"
     ]
    },
    {
     "data": {
      "image/png": "[encoded data removed]",
      "text/plain": [
       "<Figure size 640x480 with 1 Axes>"
      ]
     },
     "metadata": {},
     "output_type": "display_data"
    }
   ],
   "source": [
    "# Model Hyperparameters\n",
    "epochs = 50\n",
    "batch_size = 32\n",
    "n_splits = 5\n",
    "\n",
    "# Perform Cross-Validation\n",
    "cv = KFold(n_splits=n_splits, shuffle=True, random_state=42)  # 5-fold cross-validation\n",
    "scoring = {'precision': 'precision', 'recall': 'recall', 'f1': 'f1'}\n",
    "precision_scores, recall_scores, f1_scores = [], [], []\n",
    "training_losses, validation_losses = [], []\n",
    "\n",
    "for train_idx, test_idx in cv.split(X_scaled):\n",
    "    X_train, X_test = X_scaled[train_idx], X_scaled[test_idx]\n",
    "    y_train, y_test = y[train_idx], y[test_idx]\n",
    "\n",
    "    # Step 4: Model Selection and Building\n",
    "    model = Sequential()\n",
    "    model.add(Dense(32, activation='relu', input_shape=(X_scaled.shape[1],)))\n",
    "    model.add(Dense(64, activation='relu'))\n",
    "    model.add(Dense(1, activation='sigmoid'))  # For binary classification, use 'sigmoid' activation for the output layer\n",
    "\n",
    "    # Step 5: Model Compilation\n",
    "    model.compile(optimizer='adam', loss='binary_crossentropy', metrics=['accuracy'])\n",
    "\n",
    "    # Step 6: Model Training\n",
    "    history = model.fit(X_train, y_train, epochs=epochs, batch_size=batch_size, validation_data=(X_test, y_test))\n",
    "\n",
    "    # Store Training and Validation Losses\n",
    "    training_losses.append(history.history['loss'])\n",
    "    validation_losses.append(history.history['val_loss'])\n",
    "\n",
    "    # Step 7: Model Evaluation (Precision, Recall, F1-score)\n",
    "    y_pred = model.predict(X_test)\n",
    "    y_pred = (y_pred > 0.5).astype(int)  # Convert probabilities to binary predictions\n",
    "\n",
    "    precision_scores.append(precision_score(y_test, y_pred))\n",
    "    recall_scores.append(recall_score(y_test, y_pred))\n",
    "    f1_scores.append(f1_score(y_test, y_pred))\n",
    "\n",
    "# Calculate Mean and Standard Deviation of Evaluation Metrics\n",
    "print(\"Precision Scores:\", precision_scores)\n",
    "print(\"Mean Precision:\", np.mean(precision_scores))\n",
    "print(\"Recall Scores:\", recall_scores)\n",
    "print(\"Mean Recall:\", np.mean(recall_scores))\n",
    "print(\"F1 Scores:\", f1_scores)\n",
    "print(\"Mean F1-score:\", np.mean(f1_scores))\n",
    "\n",
    "# Plot Training and Validation Loss Curves\n",
    "mean_training_loss = np.mean(training_losses, axis=0)\n",
    "mean_validation_loss = np.mean(validation_losses, axis=0)\n",
    "epochs_range = range(1, epochs + 1)\n",
    "\n",
    "#plotting for the Train and Validation curves\n",
    "\n",
    "plt.plot(epochs_range, mean_training_loss, label='Training Loss')\n",
    "plt.plot(epochs_range, mean_validation_loss, label='Validation Loss')\n",
    "plt.xlabel('Epochs')\n",
    "plt.ylabel('Loss')\n",
    "plt.legend()\n",
    "plt.show()\n"
   ]
  },
  {
   "cell_type": "markdown",
   "metadata": {
    "id": "sxgWjmcejeLF"
   },
   "source": [
    "After parameter tuning using cross-validation, the results are as follows:\n",
    "---\n",
    "Mean Precision: 0.9889475375662571\n",
    "---\n",
    "Mean Recall: 0.6756253791827906\n",
    "---\n",
    "Mean F1-score: 0.8027126832856661\n",
    "---"
   ]
  },
  {
   "cell_type": "markdown",
   "metadata": {
    "id": "hLbzkQ43hWwH"
   },
   "source": [
    "Saving the model in a directory"
   ]
  },
  {
   "cell_type": "code",
   "execution_count": 23,
   "metadata": {
    "colab": {
     "base_uri": "https://localhost:8080/"
    },
    "id": "HVvnXk7JAg8h",
    "outputId": "1cc4628d-8881-423a-bc17-b3a9ad42ed30"
   },
   "outputs": [
    {
     "data": {
      "text/plain": [
       "['Diabetes_CNN_model\\\\CNN_model_diab_pred.pkl']"
      ]
     },
     "execution_count": 23,
     "metadata": {},
     "output_type": "execute_result"
    }
   ],
   "source": [
    "\n",
    "import joblib\n",
    "import os\n",
    "\n",
    "#Dedfining the directory to save the model\n",
    "save_dir = 'Diabetes_CNN_model'\n",
    "\n",
    "# Creating the directory\n",
    "if not os.path.exists(save_dir):\n",
    "    os.makedirs(save_dir)\n",
    "\n",
    "# Defining the filename for the model\n",
    "model_filename = 'CNN_model_diab_pred.pkl'\n",
    "\n",
    "# Creating the full file path by joining the directory and filename\n",
    "file_path = os.path.join(save_dir, model_filename)\n",
    "\n",
    "# saving the model using joblib.dump()\n",
    "joblib.dump(model, file_path)\n"
   ]
  },
  {
   "cell_type": "markdown",
   "metadata": {
    "id": "UwZmm6vehqyw"
   },
   "source": [
    "Creating a confusion matrix"
   ]
  },
  {
   "cell_type": "code",
   "execution_count": 24,
   "metadata": {
    "colab": {
     "base_uri": "https://localhost:8080/",
     "height": 564
    },
    "id": "KnxclcLOh7la",
    "outputId": "380aa585-e236-41a5-bddb-08b16861aa50"
   },
   "outputs": [
    {
     "data": {
      "image/png": "[encoded data removed]",
      "text/plain": [
       "<Figure size 600x600 with 1 Axes>"
      ]
     },
     "metadata": {},
     "output_type": "display_data"
    }
   ],
   "source": [
    "import pandas as pd\n",
    "import numpy as np\n",
    "import seaborn as sns\n",
    "import matplotlib.pyplot as plt\n",
    "from sklearn.metrics import confusion_matrix  # Import the confusion_matrix function\n",
    "from sklearn.model_selection import train_test_split\n",
    "from sklearn.preprocessing import MinMaxScaler, LabelEncoder\n",
    "import tensorflow as tf\n",
    "from tensorflow.keras.models import Sequential\n",
    "from tensorflow.keras.layers import Dense\n",
    "\n",
    "# Plot Confusion Matrix\n",
    "\n",
    "conf_matrix = confusion_matrix(y_test, y_pred)\n",
    "\n",
    "plt.figure(figsize=(6, 6))\n",
    "sns.heatmap(conf_matrix, annot=True, fmt='d', cmap='Blues', cbar=False,\n",
    "            xticklabels=['Predicted Negative', 'Predicted Positive'],\n",
    "            yticklabels=['True Negative', 'True Positive'])\n",
    "plt.xlabel('Predicted Label')\n",
    "plt.ylabel('True Label')\n",
    "plt.title('Confusion Matrix')\n",
    "plt.show()"
   ]
  },
  {
   "cell_type": "markdown",
   "metadata": {
    "id": "pG3QTTdwiVS5"
   },
   "source": [
    "We observed the following results:\n",
    "\n",
    "---\n",
    "\n",
    "\n",
    "True Negatives - 18288\n",
    "---\n",
    "False Positives - 18\n",
    "---\n",
    "False Negatives - 552\n",
    "---\n",
    "True Positives - 1142\n",
    "---\n"
   ]
  },
  {
   "cell_type": "code",
   "execution_count": 25,
   "metadata": {
    "colab": {
     "base_uri": "https://localhost:8080/"
    },
    "id": "ffrYqiB3nhqM",
    "outputId": "1b8bf5a7-5cc0-4c23-afa1-378c842ad826"
   },
   "outputs": [
    {
     "data": {
      "text/plain": [
       "['best_model.joblib']"
      ]
     },
     "execution_count": 25,
     "metadata": {},
     "output_type": "execute_result"
    }
   ],
   "source": [
    "import joblib\n",
    "# Saving the best model as a file using joblib\n",
    "CNN_bestmodel = 'best_model.joblib'  # Specify the desired file name\n",
    "joblib.dump(model, CNN_bestmodel)"
   ]
  },
  {
   "cell_type": "markdown",
   "metadata": {
    "id": "ilIxdbeYiHPP"
   },
   "source": [
    "## Deployment"
   ]
  },
  {
   "cell_type": "code",
   "execution_count": 26,
   "metadata": {
    "id": "lK8Czp5st45t"
   },
   "outputs": [
    {
     "data": {
      "text/plain": [
       "pandas.core.frame.DataFrame"
      ]
     },
     "execution_count": 26,
     "metadata": {},
     "output_type": "execute_result"
    }
   ],
   "source": [
    "#Converting the train data to a dataframe to facilitate deployment\n",
    "X_train_1 = pd.DataFrame(X_train)\n",
    "type(X_train_1)"
   ]
  },
  {
   "cell_type": "code",
   "execution_count": null,
   "metadata": {
    "colab": {
     "base_uri": "https://localhost:8080/"
    },
    "id": "sA3WTAYfm1wc",
    "outputId": "cc59c233-01e2-4ccb-f7c3-51b36db0cb98"
   },
   "outputs": [],
   "source": [
    "# Function to preprocess the user input data\n",
    "def preprocess_user_data(user_data):\n",
    "    # Encode gender\n",
    "    user_data['gender'] = user_data['gender'].apply(lambda x: 1 if x.lower() == 'male' else 0)\n",
    "\n",
    "    # Encode smoking_history\n",
    "    smoking_mapping = {\n",
    "        'never': 4,\n",
    "        'No Info': 0,\n",
    "        'current': 1,\n",
    "        'former': 3,\n",
    "        'ever': 2,\n",
    "        'not current': 5\n",
    "    }\n",
    "    user_data['smoking_history'] = user_data['smoking_history'].map(smoking_mapping)\n",
    "\n",
    "    return user_data\n",
    "\n",
    "# Function to take input from the user and make predictions\n",
    "def predict_diabetes(model_):\n",
    "    # Get user input for features\n",
    "    gender = input(\"Enter gender (Male/Female): \")\n",
    "    age = float(input(\"Enter age: \"))\n",
    "    hypertension = int(input(\"Enter hypertension (0 for No, 1 for Yes): \"))\n",
    "    heart_disease = int(input(\"Enter heart disease (0 for No, 1 for Yes): \"))\n",
    "    smoking_history = input(\"Enter smoking history (never/No Info/current/former/ever/not current): \")\n",
    "    bmi = float(input(\"Enter BMI: \"))\n",
    "    hba1c_level = float(input(\"Enter HbA1c level: \"))\n",
    "    blood_glucose_level = int(input(\"Enter blood glucose level: \"))\n",
    "\n",
    "    # Create a DataFrame with the user input\n",
    "    user_data = pd.DataFrame({\n",
    "        'gender': [gender],\n",
    "        'age': [age],\n",
    "        'hypertension': [hypertension],\n",
    "        'heart_disease': [heart_disease],\n",
    "        'smoking_history': [smoking_history],\n",
    "        'bmi': [bmi],\n",
    "        'HbA1c_level': [hba1c_level],\n",
    "        'blood_glucose_level': [blood_glucose_level]\n",
    "    })\n",
    "\n",
    "    # Preprocess user input\n",
    "    user_data = preprocess_user_data(user_data)\n",
    "\n",
    "    # Ensure the user input data has the same columns as the training data\n",
    "    missing_cols = set(X_train_1.columns) - set(user_data.columns)\n",
    "    for col in missing_cols:\n",
    "        user_data[col] = 0\n",
    "\n",
    "    user_data = user_data[X_train_1.columns]\n",
    "\n",
    "    # Use the trained model to make predictions on the preprocessed user input\n",
    "    prediction = model.predict(user_data)[0]\n",
    "\n",
    "    # Interpret the prediction\n",
    "    if prediction < 0.5:\n",
    "        print(\"Based on the input, the person is predicted to NOT have diabetes.\")\n",
    "    else:\n",
    "        print(\"Based on the input, the person is predicted to have diabetes.\")\n",
    "\n",
    "# Call the predict_diabetes function to make predictions\n",
    "predict_diabetes(model)"
   ]
  },
  {
   "cell_type": "code",
   "execution_count": null,
   "metadata": {
    "colab": {
     "base_uri": "https://localhost:8080/"
    },
    "id": "_xOI7b1gGm0T",
    "outputId": "04852ddc-2336-4c4b-9280-1b33148b4f15"
   },
   "outputs": [],
   "source": [
    "predict_diabetes(model)"
   ]
  },
  {
   "cell_type": "code",
   "execution_count": null,
   "metadata": {
    "colab": {
     "base_uri": "https://localhost:8080/"
    },
    "id": "UL9E-1OwyPBO",
    "outputId": "22e6a014-3cfc-452d-f574-cbab8220de55"
   },
   "outputs": [],
   "source": [
    "# Call the predict_diabetes function to make predictions\n",
    "predict_diabetes(model)"
   ]
  },
  {
   "cell_type": "code",
   "execution_count": null,
   "metadata": {
    "colab": {
     "base_uri": "https://localhost:8080/"
    },
    "id": "uwNAtIuHyfxY",
    "outputId": "d8ae62a9-0ce4-4c8f-9294-9d0881565b88"
   },
   "outputs": [],
   "source": [
    "# Call the predict_diabetes function to make predictions\n",
    "predict_diabetes(model)"
   ]
  }
 ],
 "metadata": {
  "colab": {
   "provenance": []
  },
  "kernelspec": {
   "display_name": "Python 3 (ipykernel)",
   "language": "python",
   "name": "python3"
  },
  "language_info": {
   "codemirror_mode": {
    "name": "ipython",
    "version": 3
   },
   "file_extension": ".py",
   "mimetype": "text/x-python",
   "name": "python",
   "nbconvert_exporter": "python",
   "pygments_lexer": "ipython3",
   "version": "3.9.13"
  }
 },
 "nbformat": 4,
 "nbformat_minor": 1
}
