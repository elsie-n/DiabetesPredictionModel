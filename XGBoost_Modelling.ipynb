{
 "cells": [
  {
   "cell_type": "markdown",
   "id": "ade19835",
   "metadata": {},
   "source": [
    "### Modelling "
   ]
  },
  {
   "cell_type": "code",
   "execution_count": 1,
   "id": "739ea97f",
   "metadata": {},
   "outputs": [],
   "source": [
    "#Importing neccesary packages\n",
    "import numpy as np\n",
    "import pandas as pd\n",
    "import xgboost as xgb\n",
    "from sklearn.model_selection import train_test_split, cross_val_score\n",
    "from sklearn.metrics import accuracy_score, confusion_matrix, mean_squared_error\n",
    "from xgboost import XGBClassifier"
   ]
  },
  {
   "cell_type": "code",
   "execution_count": 2,
   "id": "c17c21f0",
   "metadata": {},
   "outputs": [],
   "source": [
    "# Loading the data \n",
    "data = pd.read_csv('Data/Preprocessed_data.csv')"
   ]
  },
  {
   "cell_type": "code",
   "execution_count": 3,
   "id": "3ceae5e2",
   "metadata": {
    "scrolled": true
   },
   "outputs": [
    {
     "name": "stdout",
     "output_type": "stream",
     "text": [
      "<class 'pandas.core.frame.DataFrame'>\n",
      "RangeIndex: 100000 entries, 0 to 99999\n",
      "Data columns (total 10 columns):\n",
      " #   Column                   Non-Null Count   Dtype  \n",
      "---  ------                   --------------   -----  \n",
      " 0   gender                   100000 non-null  object \n",
      " 1   age                      100000 non-null  float64\n",
      " 2   hypertension             100000 non-null  int64  \n",
      " 3   heart_disease            100000 non-null  int64  \n",
      " 4   smoking_history          100000 non-null  object \n",
      " 5   encoded_smoking_history  100000 non-null  int64  \n",
      " 6   bmi                      100000 non-null  float64\n",
      " 7   HbA1c_level              100000 non-null  float64\n",
      " 8   blood_glucose_level      100000 non-null  int64  \n",
      " 9   diabetes                 100000 non-null  int64  \n",
      "dtypes: float64(3), int64(5), object(2)\n",
      "memory usage: 7.6+ MB\n"
     ]
    }
   ],
   "source": [
    "data.info()"
   ]
  },
  {
   "cell_type": "code",
   "execution_count": 4,
   "id": "a479bf45",
   "metadata": {},
   "outputs": [
    {
     "data": {
      "text/html": [
       "<div>\n",
       "<style scoped>\n",
       "    .dataframe tbody tr th:only-of-type {\n",
       "        vertical-align: middle;\n",
       "    }\n",
       "\n",
       "    .dataframe tbody tr th {\n",
       "        vertical-align: top;\n",
       "    }\n",
       "\n",
       "    .dataframe thead th {\n",
       "        text-align: right;\n",
       "    }\n",
       "</style>\n",
       "<table border=\"1\" class=\"dataframe\">\n",
       "  <thead>\n",
       "    <tr style=\"text-align: right;\">\n",
       "      <th></th>\n",
       "      <th>gender</th>\n",
       "      <th>age</th>\n",
       "      <th>hypertension</th>\n",
       "      <th>heart_disease</th>\n",
       "      <th>smoking_history</th>\n",
       "      <th>encoded_smoking_history</th>\n",
       "      <th>bmi</th>\n",
       "      <th>HbA1c_level</th>\n",
       "      <th>blood_glucose_level</th>\n",
       "      <th>diabetes</th>\n",
       "    </tr>\n",
       "  </thead>\n",
       "  <tbody>\n",
       "    <tr>\n",
       "      <th>0</th>\n",
       "      <td>Female</td>\n",
       "      <td>80.0</td>\n",
       "      <td>0</td>\n",
       "      <td>1</td>\n",
       "      <td>never</td>\n",
       "      <td>4</td>\n",
       "      <td>25.19</td>\n",
       "      <td>6.6</td>\n",
       "      <td>140</td>\n",
       "      <td>0</td>\n",
       "    </tr>\n",
       "    <tr>\n",
       "      <th>1</th>\n",
       "      <td>Female</td>\n",
       "      <td>54.0</td>\n",
       "      <td>0</td>\n",
       "      <td>0</td>\n",
       "      <td>No Info</td>\n",
       "      <td>0</td>\n",
       "      <td>27.32</td>\n",
       "      <td>6.6</td>\n",
       "      <td>80</td>\n",
       "      <td>0</td>\n",
       "    </tr>\n",
       "    <tr>\n",
       "      <th>2</th>\n",
       "      <td>Male</td>\n",
       "      <td>28.0</td>\n",
       "      <td>0</td>\n",
       "      <td>0</td>\n",
       "      <td>never</td>\n",
       "      <td>4</td>\n",
       "      <td>27.32</td>\n",
       "      <td>5.7</td>\n",
       "      <td>158</td>\n",
       "      <td>0</td>\n",
       "    </tr>\n",
       "    <tr>\n",
       "      <th>3</th>\n",
       "      <td>Female</td>\n",
       "      <td>36.0</td>\n",
       "      <td>0</td>\n",
       "      <td>0</td>\n",
       "      <td>current</td>\n",
       "      <td>1</td>\n",
       "      <td>23.45</td>\n",
       "      <td>5.0</td>\n",
       "      <td>155</td>\n",
       "      <td>0</td>\n",
       "    </tr>\n",
       "    <tr>\n",
       "      <th>4</th>\n",
       "      <td>Male</td>\n",
       "      <td>76.0</td>\n",
       "      <td>1</td>\n",
       "      <td>1</td>\n",
       "      <td>current</td>\n",
       "      <td>1</td>\n",
       "      <td>20.14</td>\n",
       "      <td>4.8</td>\n",
       "      <td>155</td>\n",
       "      <td>0</td>\n",
       "    </tr>\n",
       "  </tbody>\n",
       "</table>\n",
       "</div>"
      ],
      "text/plain": [
       "   gender   age  hypertension  heart_disease smoking_history  \\\n",
       "0  Female  80.0             0              1           never   \n",
       "1  Female  54.0             0              0         No Info   \n",
       "2    Male  28.0             0              0           never   \n",
       "3  Female  36.0             0              0         current   \n",
       "4    Male  76.0             1              1         current   \n",
       "\n",
       "   encoded_smoking_history    bmi  HbA1c_level  blood_glucose_level  diabetes  \n",
       "0                        4  25.19          6.6                  140         0  \n",
       "1                        0  27.32          6.6                   80         0  \n",
       "2                        4  27.32          5.7                  158         0  \n",
       "3                        1  23.45          5.0                  155         0  \n",
       "4                        1  20.14          4.8                  155         0  "
      ]
     },
     "execution_count": 4,
     "metadata": {},
     "output_type": "execute_result"
    }
   ],
   "source": [
    "data.head()"
   ]
  },
  {
   "cell_type": "code",
   "execution_count": null,
   "id": "085b1454",
   "metadata": {},
   "outputs": [],
   "source": []
  },
  {
   "cell_type": "code",
   "execution_count": 5,
   "id": "3bf561bc",
   "metadata": {},
   "outputs": [],
   "source": [
    "# Split the dataset into features (X) and target (y)\n",
    "X = data.drop(['diabetes', 'gender', 'smoking_history'], axis=1)\n",
    "y = data['diabetes']\n",
    "\n",
    "# Split the data into training and testing sets\n",
    "X_train, X_test, y_train, y_test = train_test_split(X, y, test_size=0.2, random_state=42)"
   ]
  },
  {
   "cell_type": "code",
   "execution_count": 6,
   "id": "b2ccbb5c",
   "metadata": {
    "scrolled": true
   },
   "outputs": [],
   "source": [
    "# Convert the data into DMatrix format for XGBoost\n",
    "dtrain = xgb.DMatrix(X_train, label=y_train)\n",
    "dtest = xgb.DMatrix(X_test)\n",
    "\n",
    "# Define the parameters for the XGBoost model\n",
    "params = {\n",
    "    'objective': 'binary:logistic',\n",
    "    'eval_metric': 'logloss',\n",
    "    'max_depth': 6,              # Increase max_depth to increase model complexity\n",
    "    'learning_rate': 0.1,        # You can experiment with different learning rates\n",
    "    'n_estimators': 200,        # Increase n_estimators for a more complex model\n",
    "    'gamma': 0.5,                # Adjust gamma as needed for complexity control\n",
    "    'subsample': 0.8,            # You can experiment with different subsample values\n",
    "    'colsample_bytree': 0.8,     # You can experiment with different colsample_bytree values\n",
    "    'alpha': 0.1,      # L1 regularization (Lasso)\n",
    "    'lambda': 0.1,     # L2 regularization (Ridge)\n",
    "}\n",
    "\n",
    "# Create and train the XGBoost model using XGBClassifier\n",
    "#model = XGBClassifier(**params)\n",
    "#model.fit(X_train, y_train)\n"
   ]
  },
  {
   "cell_type": "markdown",
   "id": "e72652d9",
   "metadata": {},
   "source": [
    "#### Strategies to address data imbalance in the model"
   ]
  },
  {
   "cell_type": "code",
   "execution_count": 7,
   "id": "5c303d41",
   "metadata": {},
   "outputs": [
    {
     "data": {
      "text/plain": [
       "XGBClassifier(alpha=0.1, base_score=None, booster=None, callbacks=None,\n",
       "              colsample_bylevel=None, colsample_bynode=None,\n",
       "              colsample_bytree=0.8, early_stopping_rounds=None,\n",
       "              enable_categorical=False, eval_metric='logloss',\n",
       "              feature_types=None, gamma=0.5, gpu_id=None, grow_policy=None,\n",
       "              importance_type=None, interaction_constraints=None, lambda=0.1,\n",
       "              learning_rate=0.1, max_bin=None, max_cat_threshold=None,\n",
       "              max_cat_to_onehot=None, max_delta_step=None, max_depth=6,\n",
       "              max_leaves=None, min_child_weight=None, missing=nan,\n",
       "              monotone_constraints=None, n_estimators=200, n_jobs=None,\n",
       "              num_parallel_tree=None, ...)"
      ]
     },
     "execution_count": 7,
     "metadata": {},
     "output_type": "execute_result"
    }
   ],
   "source": [
    "# Calculate class weights\n",
    "class_weights = len(y_train) / np.bincount(y_train)\n",
    "\n",
    "# Create and train the XGBoost model with class weights\n",
    "model = XGBClassifier(scale_pos_weight=class_weights[0] / class_weights[1], **params)\n",
    "model.fit(X_train, y_train)"
   ]
  },
  {
   "cell_type": "code",
   "execution_count": 8,
   "id": "9026177e",
   "metadata": {},
   "outputs": [
    {
     "name": "stdout",
     "output_type": "stream",
     "text": [
      "Requirement already satisfied: imblearn in c:\\users\\elsie\\anaconda3\\lib\\site-packages (0.0)\n",
      "Requirement already satisfied: imbalanced-learn in c:\\users\\elsie\\anaconda3\\lib\\site-packages (from imblearn) (0.11.0)\n",
      "Requirement already satisfied: threadpoolctl>=2.0.0 in c:\\users\\elsie\\anaconda3\\lib\\site-packages (from imbalanced-learn->imblearn) (2.2.0)\n",
      "Requirement already satisfied: scipy>=1.5.0 in c:\\users\\elsie\\anaconda3\\lib\\site-packages (from imbalanced-learn->imblearn) (1.9.1)\n",
      "Requirement already satisfied: scikit-learn>=1.0.2 in c:\\users\\elsie\\anaconda3\\lib\\site-packages (from imbalanced-learn->imblearn) (1.0.2)\n",
      "Requirement already satisfied: joblib>=1.1.1 in c:\\users\\elsie\\anaconda3\\lib\\site-packages (from imbalanced-learn->imblearn) (1.3.1)\n",
      "Requirement already satisfied: numpy>=1.17.3 in c:\\users\\elsie\\anaconda3\\lib\\site-packages (from imbalanced-learn->imblearn) (1.24.3)\n",
      "Note: you may need to restart the kernel to use updated packages.\n"
     ]
    }
   ],
   "source": [
    "pip install imblearn"
   ]
  },
  {
   "cell_type": "code",
   "execution_count": 9,
   "id": "402762df",
   "metadata": {},
   "outputs": [],
   "source": [
    "from imblearn.over_sampling import SMOTE"
   ]
  },
  {
   "cell_type": "code",
   "execution_count": 10,
   "id": "710a263b",
   "metadata": {},
   "outputs": [],
   "source": [
    "smote = SMOTE(sampling_strategy='auto', random_state=42)\n",
    "X_train_resampled, y_train_resampled = smote.fit_resample(X_train, y_train)"
   ]
  },
  {
   "cell_type": "code",
   "execution_count": 11,
   "id": "6193c470",
   "metadata": {},
   "outputs": [
    {
     "data": {
      "text/plain": [
       "XGBClassifier(alpha=0.1, base_score=None, booster=None, callbacks=None,\n",
       "              colsample_bylevel=None, colsample_bynode=None,\n",
       "              colsample_bytree=0.8, early_stopping_rounds=None,\n",
       "              enable_categorical=False, eval_metric='logloss',\n",
       "              feature_types=None, gamma=0.5, gpu_id=None, grow_policy=None,\n",
       "              importance_type=None, interaction_constraints=None, lambda=0.1,\n",
       "              learning_rate=0.1, max_bin=None, max_cat_threshold=None,\n",
       "              max_cat_to_onehot=None, max_delta_step=None, max_depth=6,\n",
       "              max_leaves=None, min_child_weight=None, missing=nan,\n",
       "              monotone_constraints=None, n_estimators=200, n_jobs=None,\n",
       "              num_parallel_tree=None, ...)"
      ]
     },
     "execution_count": 11,
     "metadata": {},
     "output_type": "execute_result"
    }
   ],
   "source": [
    "model = XGBClassifier(scale_pos_weight=class_weights[0] / class_weights[1], **params)\n",
    "model.fit(X_train_resampled, y_train_resampled)"
   ]
  },
  {
   "cell_type": "code",
   "execution_count": 12,
   "id": "aef60e65",
   "metadata": {},
   "outputs": [],
   "source": [
    "# Predict the target variable for the test set\n",
    "y_pred = model.predict(X_test)\n"
   ]
  },
  {
   "cell_type": "code",
   "execution_count": 13,
   "id": "0c7d43da",
   "metadata": {},
   "outputs": [
    {
     "name": "stdout",
     "output_type": "stream",
     "text": [
      "Accuracy: 0.97235\n"
     ]
    }
   ],
   "source": [
    "# Calculate the accuracy of the model\n",
    "accuracy = accuracy_score(y_test, y_pred)\n",
    "print(f\"Accuracy: {accuracy}\")"
   ]
  },
  {
   "cell_type": "code",
   "execution_count": 14,
   "id": "07f034ef",
   "metadata": {},
   "outputs": [
    {
     "name": "stdout",
     "output_type": "stream",
     "text": [
      "MSE Score: 0.02765\n"
     ]
    }
   ],
   "source": [
    "# Calculate the Mean Squared Error (MSE) score\n",
    "mse_score = mean_squared_error(y_test, y_pred)\n",
    "print(f\"MSE Score: {mse_score}\")"
   ]
  },
  {
   "cell_type": "code",
   "execution_count": 15,
   "id": "b50e16c6",
   "metadata": {},
   "outputs": [
    {
     "name": "stdout",
     "output_type": "stream",
     "text": [
      "Confusion Matrix:\n",
      "[[18292     0]\n",
      " [  553  1155]]\n"
     ]
    }
   ],
   "source": [
    "# Print the confusion matrix to see true positive, true negative, false positive, and false negative\n",
    "conf_matrix = confusion_matrix(y_test, y_pred)\n",
    "print(\"Confusion Matrix:\")\n",
    "print(conf_matrix)"
   ]
  },
  {
   "cell_type": "code",
   "execution_count": 16,
   "id": "bdd41eb4",
   "metadata": {},
   "outputs": [
    {
     "name": "stdout",
     "output_type": "stream",
     "text": [
      "Cross-Validation Scores:\n",
      "[0.97215 0.9726  0.96955 0.973   0.97205]\n",
      "Mean CV Accuracy: 0.97187\n"
     ]
    }
   ],
   "source": [
    "# Perform cross-validation to estimate model performance\n",
    "cv_scores = cross_val_score(model, X, y, cv=5, scoring='accuracy')\n",
    "print(\"Cross-Validation Scores:\")\n",
    "print(cv_scores)\n",
    "print(f\"Mean CV Accuracy: {np.mean(cv_scores)}\")"
   ]
  },
  {
   "cell_type": "code",
   "execution_count": 17,
   "id": "eb416a13",
   "metadata": {},
   "outputs": [
    {
     "name": "stdout",
     "output_type": "stream",
     "text": [
      "Training Set Classification Report:\n",
      "              precision    recall  f1-score   support\n",
      "\n",
      "Non-Diabetes       0.97      1.00      0.98     73208\n",
      "    Diabetes       1.00      0.67      0.80      6792\n",
      "\n",
      "    accuracy                           0.97     80000\n",
      "   macro avg       0.99      0.83      0.89     80000\n",
      "weighted avg       0.97      0.97      0.97     80000\n",
      "\n"
     ]
    }
   ],
   "source": [
    "from sklearn.metrics import classification_report\n",
    "\n",
    "# Predict the target variable for the train set\n",
    "y_train_pred = model.predict(X_train)\n",
    "\n",
    "# Calculate precision, recall, and F1-score for the train set\n",
    "train_report = classification_report(y_train, y_train_pred, target_names=['Non-Diabetes', 'Diabetes'])\n",
    "\n",
    "print(\"Training Set Classification Report:\")\n",
    "print(train_report)\n"
   ]
  },
  {
   "cell_type": "code",
   "execution_count": 18,
   "id": "7d8bf7a9",
   "metadata": {},
   "outputs": [
    {
     "name": "stdout",
     "output_type": "stream",
     "text": [
      "Test Set Classification Report:\n",
      "              precision    recall  f1-score   support\n",
      "\n",
      "Non-Diabetes       0.97      1.00      0.99     18292\n",
      "    Diabetes       1.00      0.68      0.81      1708\n",
      "\n",
      "    accuracy                           0.97     20000\n",
      "   macro avg       0.99      0.84      0.90     20000\n",
      "weighted avg       0.97      0.97      0.97     20000\n",
      "\n"
     ]
    }
   ],
   "source": [
    "# Predict the target variable for the test set\n",
    "y_test_pred = model.predict(X_test)\n",
    "\n",
    "# Calculate precision, recall, and F1-score for the test set\n",
    "test_report = classification_report(y_test, y_test_pred, target_names=['Non-Diabetes', 'Diabetes'])\n",
    "\n",
    "print(\"Test Set Classification Report:\")\n",
    "print(test_report)\n"
   ]
  },
  {
   "cell_type": "code",
   "execution_count": null,
   "id": "44bfd604",
   "metadata": {},
   "outputs": [],
   "source": []
  },
  {
   "cell_type": "code",
   "execution_count": null,
   "id": "a5e2d867",
   "metadata": {},
   "outputs": [],
   "source": [
    "# Function to preprocess the user input data\n",
    "def preprocess_user_data(user_data):\n",
    "    # Encode gender\n",
    "    user_data['gender'] = user_data['gender'].apply(lambda x: 1 if x.lower() == 'male' else 0)\n",
    "\n",
    "    # Encode smoking_history\n",
    "    smoking_mapping = {\n",
    "        'never': 4,\n",
    "        'No Info': 0,\n",
    "        'current': 1,\n",
    "        'former': 3,\n",
    "        'ever': 2,\n",
    "        'not current': 5\n",
    "    }\n",
    "    user_data['smoking_history'] = user_data['smoking_history'].map(smoking_mapping)\n",
    "\n",
    "    return user_data\n",
    "\n",
    "# Function to take input from the user and make predictions\n",
    "def predict_diabetes(model):\n",
    "    # Get user input for features\n",
    "    gender = input(\"Enter gender (Male/Female): \")\n",
    "    age = float(input(\"Enter age: \"))\n",
    "    hypertension = int(input(\"Enter hypertension (0 for No, 1 for Yes): \"))\n",
    "    heart_disease = int(input(\"Enter heart disease (0 for No, 1 for Yes): \"))\n",
    "    smoking_history = input(\"Enter smoking history (never/No Info/current/former/ever/not current): \")\n",
    "    bmi = float(input(\"Enter BMI: \"))\n",
    "    hba1c_level = float(input(\"Enter HbA1c level: \"))\n",
    "    blood_glucose_level = int(input(\"Enter blood glucose level: \"))\n",
    "\n",
    "    # Create a DataFrame with the user input\n",
    "    user_data = pd.DataFrame({\n",
    "        'gender': [gender],\n",
    "        'age': [age],\n",
    "        'hypertension': [hypertension],\n",
    "        'heart_disease': [heart_disease],\n",
    "        'smoking_history': [smoking_history],\n",
    "        'bmi': [bmi],\n",
    "        'HbA1c_level': [hba1c_level],\n",
    "        'blood_glucose_level': [blood_glucose_level]\n",
    "    })\n",
    "\n",
    "    # Preprocess user input\n",
    "    user_data = preprocess_user_data(user_data)\n",
    "\n",
    "    # Ensure the user input data has the same columns as the training data\n",
    "    missing_cols = set(X_train.columns) - set(user_data.columns)\n",
    "    for col in missing_cols:\n",
    "        user_data[col] = 0\n",
    "\n",
    "    user_data = user_data[X_train.columns]\n",
    "\n",
    "    # Use the trained model to make predictions on the preprocessed user input\n",
    "    prediction = model.predict_proba(user_data)[:, 1][0]\n",
    "\n",
    "    # Interpret the prediction\n",
    "    if prediction < 0.5:\n",
    "        print(\"Based on the input, the person is predicted to NOT have diabetes.\")\n",
    "    else:\n",
    "        print(\"Based on the input, the person is predicted to have diabetes.\")\n",
    "\n",
    "# Call the predict_diabetes function to make predictions\n",
    "predict_diabetes(model)\n"
   ]
  },
  {
   "cell_type": "code",
   "execution_count": null,
   "id": "93de87f9",
   "metadata": {},
   "outputs": [],
   "source": [
    "predict_diabetes(model)"
   ]
  },
  {
   "cell_type": "code",
   "execution_count": null,
   "id": "a0217913",
   "metadata": {},
   "outputs": [],
   "source": [
    "predict_diabetes(model)"
   ]
  },
  {
   "cell_type": "code",
   "execution_count": null,
   "id": "dc9bc479",
   "metadata": {},
   "outputs": [],
   "source": []
  }
 ],
 "metadata": {
  "kernelspec": {
   "display_name": "Python 3 (ipykernel)",
   "language": "python",
   "name": "python3"
  },
  "language_info": {
   "codemirror_mode": {
    "name": "ipython",
    "version": 3
   },
   "file_extension": ".py",
   "mimetype": "text/x-python",
   "name": "python",
   "nbconvert_exporter": "python",
   "pygments_lexer": "ipython3",
   "version": "3.9.13"
  }
 },
 "nbformat": 4,
 "nbformat_minor": 5
}
