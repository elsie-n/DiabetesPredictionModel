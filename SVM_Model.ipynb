{
 "cells": [
  {
   "cell_type": "code",
   "execution_count": 1,
   "id": "256e7f88",
   "metadata": {},
   "outputs": [
    {
     "name": "stdout",
     "output_type": "stream",
     "text": [
      "Requirement already satisfied: imbalanced-learn in c:\\users\\naomi\\anaconda3\\envs\\test\\lib\\site-packages (0.11.0)\n",
      "Requirement already satisfied: numpy>=1.17.3 in c:\\users\\naomi\\anaconda3\\envs\\test\\lib\\site-packages (from imbalanced-learn) (1.21.5)\n",
      "Requirement already satisfied: joblib>=1.1.1 in c:\\users\\naomi\\anaconda3\\envs\\test\\lib\\site-packages (from imbalanced-learn) (1.1.1)\n",
      "Requirement already satisfied: threadpoolctl>=2.0.0 in c:\\users\\naomi\\anaconda3\\envs\\test\\lib\\site-packages (from imbalanced-learn) (2.2.0)\n",
      "Requirement already satisfied: scipy>=1.5.0 in c:\\users\\naomi\\anaconda3\\envs\\test\\lib\\site-packages (from imbalanced-learn) (1.9.3)\n",
      "Requirement already satisfied: scikit-learn>=1.0.2 in c:\\users\\naomi\\anaconda3\\envs\\test\\lib\\site-packages (from imbalanced-learn) (1.1.3)\n"
     ]
    }
   ],
   "source": [
    "import pandas as pd\n",
    "import matplotlib.pyplot as plt\n",
    "import seaborn as sns\n",
    "!pip install imbalanced-learn\n"
   ]
  },
  {
   "cell_type": "code",
   "execution_count": 2,
   "id": "9e2f8c90",
   "metadata": {
    "scrolled": true
   },
   "outputs": [
    {
     "data": {
      "text/html": [
       "<div>\n",
       "<style scoped>\n",
       "    .dataframe tbody tr th:only-of-type {\n",
       "        vertical-align: middle;\n",
       "    }\n",
       "\n",
       "    .dataframe tbody tr th {\n",
       "        vertical-align: top;\n",
       "    }\n",
       "\n",
       "    .dataframe thead th {\n",
       "        text-align: right;\n",
       "    }\n",
       "</style>\n",
       "<table border=\"1\" class=\"dataframe\">\n",
       "  <thead>\n",
       "    <tr style=\"text-align: right;\">\n",
       "      <th></th>\n",
       "      <th>gender</th>\n",
       "      <th>age</th>\n",
       "      <th>hypertension</th>\n",
       "      <th>heart_disease</th>\n",
       "      <th>smoking_history</th>\n",
       "      <th>bmi</th>\n",
       "      <th>HbA1c_level</th>\n",
       "      <th>blood_glucose_level</th>\n",
       "      <th>diabetes</th>\n",
       "    </tr>\n",
       "  </thead>\n",
       "  <tbody>\n",
       "    <tr>\n",
       "      <th>0</th>\n",
       "      <td>Female</td>\n",
       "      <td>80.0</td>\n",
       "      <td>0</td>\n",
       "      <td>1</td>\n",
       "      <td>never</td>\n",
       "      <td>25.19</td>\n",
       "      <td>6.6</td>\n",
       "      <td>140</td>\n",
       "      <td>0</td>\n",
       "    </tr>\n",
       "    <tr>\n",
       "      <th>1</th>\n",
       "      <td>Female</td>\n",
       "      <td>54.0</td>\n",
       "      <td>0</td>\n",
       "      <td>0</td>\n",
       "      <td>No Info</td>\n",
       "      <td>27.32</td>\n",
       "      <td>6.6</td>\n",
       "      <td>80</td>\n",
       "      <td>0</td>\n",
       "    </tr>\n",
       "    <tr>\n",
       "      <th>2</th>\n",
       "      <td>Male</td>\n",
       "      <td>28.0</td>\n",
       "      <td>0</td>\n",
       "      <td>0</td>\n",
       "      <td>never</td>\n",
       "      <td>27.32</td>\n",
       "      <td>5.7</td>\n",
       "      <td>158</td>\n",
       "      <td>0</td>\n",
       "    </tr>\n",
       "    <tr>\n",
       "      <th>3</th>\n",
       "      <td>Female</td>\n",
       "      <td>36.0</td>\n",
       "      <td>0</td>\n",
       "      <td>0</td>\n",
       "      <td>current</td>\n",
       "      <td>23.45</td>\n",
       "      <td>5.0</td>\n",
       "      <td>155</td>\n",
       "      <td>0</td>\n",
       "    </tr>\n",
       "    <tr>\n",
       "      <th>4</th>\n",
       "      <td>Male</td>\n",
       "      <td>76.0</td>\n",
       "      <td>1</td>\n",
       "      <td>1</td>\n",
       "      <td>current</td>\n",
       "      <td>20.14</td>\n",
       "      <td>4.8</td>\n",
       "      <td>155</td>\n",
       "      <td>0</td>\n",
       "    </tr>\n",
       "  </tbody>\n",
       "</table>\n",
       "</div>"
      ],
      "text/plain": [
       "   gender   age  hypertension  heart_disease smoking_history    bmi  \\\n",
       "0  Female  80.0             0              1           never  25.19   \n",
       "1  Female  54.0             0              0         No Info  27.32   \n",
       "2    Male  28.0             0              0           never  27.32   \n",
       "3  Female  36.0             0              0         current  23.45   \n",
       "4    Male  76.0             1              1         current  20.14   \n",
       "\n",
       "   HbA1c_level  blood_glucose_level  diabetes  \n",
       "0          6.6                  140         0  \n",
       "1          6.6                   80         0  \n",
       "2          5.7                  158         0  \n",
       "3          5.0                  155         0  \n",
       "4          4.8                  155         0  "
      ]
     },
     "execution_count": 2,
     "metadata": {},
     "output_type": "execute_result"
    }
   ],
   "source": [
    "df1 = pd.read_csv('diabetes_prediction_dataset.csv')\n",
    "df1.head()"
   ]
  },
  {
   "cell_type": "code",
   "execution_count": 3,
   "id": "e7aff824",
   "metadata": {},
   "outputs": [
    {
     "data": {
      "text/html": [
       "<div>\n",
       "<style scoped>\n",
       "    .dataframe tbody tr th:only-of-type {\n",
       "        vertical-align: middle;\n",
       "    }\n",
       "\n",
       "    .dataframe tbody tr th {\n",
       "        vertical-align: top;\n",
       "    }\n",
       "\n",
       "    .dataframe thead th {\n",
       "        text-align: right;\n",
       "    }\n",
       "</style>\n",
       "<table border=\"1\" class=\"dataframe\">\n",
       "  <thead>\n",
       "    <tr style=\"text-align: right;\">\n",
       "      <th></th>\n",
       "      <th>Diabetes_012</th>\n",
       "      <th>HighBP</th>\n",
       "      <th>HighChol</th>\n",
       "      <th>CholCheck</th>\n",
       "      <th>BMI</th>\n",
       "      <th>Smoker</th>\n",
       "      <th>Stroke</th>\n",
       "      <th>HeartDiseaseorAttack</th>\n",
       "      <th>PhysActivity</th>\n",
       "      <th>Fruits</th>\n",
       "      <th>...</th>\n",
       "      <th>AnyHealthcare</th>\n",
       "      <th>NoDocbcCost</th>\n",
       "      <th>GenHlth</th>\n",
       "      <th>MentHlth</th>\n",
       "      <th>PhysHlth</th>\n",
       "      <th>DiffWalk</th>\n",
       "      <th>Sex</th>\n",
       "      <th>Age</th>\n",
       "      <th>Education</th>\n",
       "      <th>Income</th>\n",
       "    </tr>\n",
       "  </thead>\n",
       "  <tbody>\n",
       "    <tr>\n",
       "      <th>0</th>\n",
       "      <td>0.0</td>\n",
       "      <td>1.0</td>\n",
       "      <td>1.0</td>\n",
       "      <td>1.0</td>\n",
       "      <td>40.0</td>\n",
       "      <td>1.0</td>\n",
       "      <td>0.0</td>\n",
       "      <td>0.0</td>\n",
       "      <td>0.0</td>\n",
       "      <td>0.0</td>\n",
       "      <td>...</td>\n",
       "      <td>1.0</td>\n",
       "      <td>0.0</td>\n",
       "      <td>5.0</td>\n",
       "      <td>18.0</td>\n",
       "      <td>15.0</td>\n",
       "      <td>1.0</td>\n",
       "      <td>0.0</td>\n",
       "      <td>9.0</td>\n",
       "      <td>4.0</td>\n",
       "      <td>3.0</td>\n",
       "    </tr>\n",
       "    <tr>\n",
       "      <th>1</th>\n",
       "      <td>0.0</td>\n",
       "      <td>0.0</td>\n",
       "      <td>0.0</td>\n",
       "      <td>0.0</td>\n",
       "      <td>25.0</td>\n",
       "      <td>1.0</td>\n",
       "      <td>0.0</td>\n",
       "      <td>0.0</td>\n",
       "      <td>1.0</td>\n",
       "      <td>0.0</td>\n",
       "      <td>...</td>\n",
       "      <td>0.0</td>\n",
       "      <td>1.0</td>\n",
       "      <td>3.0</td>\n",
       "      <td>0.0</td>\n",
       "      <td>0.0</td>\n",
       "      <td>0.0</td>\n",
       "      <td>0.0</td>\n",
       "      <td>7.0</td>\n",
       "      <td>6.0</td>\n",
       "      <td>1.0</td>\n",
       "    </tr>\n",
       "    <tr>\n",
       "      <th>2</th>\n",
       "      <td>0.0</td>\n",
       "      <td>1.0</td>\n",
       "      <td>1.0</td>\n",
       "      <td>1.0</td>\n",
       "      <td>28.0</td>\n",
       "      <td>0.0</td>\n",
       "      <td>0.0</td>\n",
       "      <td>0.0</td>\n",
       "      <td>0.0</td>\n",
       "      <td>1.0</td>\n",
       "      <td>...</td>\n",
       "      <td>1.0</td>\n",
       "      <td>1.0</td>\n",
       "      <td>5.0</td>\n",
       "      <td>30.0</td>\n",
       "      <td>30.0</td>\n",
       "      <td>1.0</td>\n",
       "      <td>0.0</td>\n",
       "      <td>9.0</td>\n",
       "      <td>4.0</td>\n",
       "      <td>8.0</td>\n",
       "    </tr>\n",
       "    <tr>\n",
       "      <th>3</th>\n",
       "      <td>0.0</td>\n",
       "      <td>1.0</td>\n",
       "      <td>0.0</td>\n",
       "      <td>1.0</td>\n",
       "      <td>27.0</td>\n",
       "      <td>0.0</td>\n",
       "      <td>0.0</td>\n",
       "      <td>0.0</td>\n",
       "      <td>1.0</td>\n",
       "      <td>1.0</td>\n",
       "      <td>...</td>\n",
       "      <td>1.0</td>\n",
       "      <td>0.0</td>\n",
       "      <td>2.0</td>\n",
       "      <td>0.0</td>\n",
       "      <td>0.0</td>\n",
       "      <td>0.0</td>\n",
       "      <td>0.0</td>\n",
       "      <td>11.0</td>\n",
       "      <td>3.0</td>\n",
       "      <td>6.0</td>\n",
       "    </tr>\n",
       "    <tr>\n",
       "      <th>4</th>\n",
       "      <td>0.0</td>\n",
       "      <td>1.0</td>\n",
       "      <td>1.0</td>\n",
       "      <td>1.0</td>\n",
       "      <td>24.0</td>\n",
       "      <td>0.0</td>\n",
       "      <td>0.0</td>\n",
       "      <td>0.0</td>\n",
       "      <td>1.0</td>\n",
       "      <td>1.0</td>\n",
       "      <td>...</td>\n",
       "      <td>1.0</td>\n",
       "      <td>0.0</td>\n",
       "      <td>2.0</td>\n",
       "      <td>3.0</td>\n",
       "      <td>0.0</td>\n",
       "      <td>0.0</td>\n",
       "      <td>0.0</td>\n",
       "      <td>11.0</td>\n",
       "      <td>5.0</td>\n",
       "      <td>4.0</td>\n",
       "    </tr>\n",
       "  </tbody>\n",
       "</table>\n",
       "<p>5 rows × 22 columns</p>\n",
       "</div>"
      ],
      "text/plain": [
       "   Diabetes_012  HighBP  HighChol  CholCheck   BMI  Smoker  Stroke  \\\n",
       "0           0.0     1.0       1.0        1.0  40.0     1.0     0.0   \n",
       "1           0.0     0.0       0.0        0.0  25.0     1.0     0.0   \n",
       "2           0.0     1.0       1.0        1.0  28.0     0.0     0.0   \n",
       "3           0.0     1.0       0.0        1.0  27.0     0.0     0.0   \n",
       "4           0.0     1.0       1.0        1.0  24.0     0.0     0.0   \n",
       "\n",
       "   HeartDiseaseorAttack  PhysActivity  Fruits  ...  AnyHealthcare  \\\n",
       "0                   0.0           0.0     0.0  ...            1.0   \n",
       "1                   0.0           1.0     0.0  ...            0.0   \n",
       "2                   0.0           0.0     1.0  ...            1.0   \n",
       "3                   0.0           1.0     1.0  ...            1.0   \n",
       "4                   0.0           1.0     1.0  ...            1.0   \n",
       "\n",
       "   NoDocbcCost  GenHlth  MentHlth  PhysHlth  DiffWalk  Sex   Age  Education  \\\n",
       "0          0.0      5.0      18.0      15.0       1.0  0.0   9.0        4.0   \n",
       "1          1.0      3.0       0.0       0.0       0.0  0.0   7.0        6.0   \n",
       "2          1.0      5.0      30.0      30.0       1.0  0.0   9.0        4.0   \n",
       "3          0.0      2.0       0.0       0.0       0.0  0.0  11.0        3.0   \n",
       "4          0.0      2.0       3.0       0.0       0.0  0.0  11.0        5.0   \n",
       "\n",
       "   Income  \n",
       "0     3.0  \n",
       "1     1.0  \n",
       "2     8.0  \n",
       "3     6.0  \n",
       "4     4.0  \n",
       "\n",
       "[5 rows x 22 columns]"
      ]
     },
     "execution_count": 3,
     "metadata": {},
     "output_type": "execute_result"
    }
   ],
   "source": [
    "df = pd.read_csv('diabetes_012_health_indicators_BRFSS2015.csv')\n",
    "df.head()"
   ]
  },
  {
   "cell_type": "code",
   "execution_count": 4,
   "id": "b93964f7",
   "metadata": {},
   "outputs": [
    {
     "name": "stdout",
     "output_type": "stream",
     "text": [
      "<class 'pandas.core.frame.DataFrame'>\n",
      "RangeIndex: 100000 entries, 0 to 99999\n",
      "Data columns (total 9 columns):\n",
      " #   Column               Non-Null Count   Dtype  \n",
      "---  ------               --------------   -----  \n",
      " 0   gender               100000 non-null  object \n",
      " 1   age                  100000 non-null  float64\n",
      " 2   hypertension         100000 non-null  int64  \n",
      " 3   heart_disease        100000 non-null  int64  \n",
      " 4   smoking_history      100000 non-null  object \n",
      " 5   bmi                  100000 non-null  float64\n",
      " 6   HbA1c_level          100000 non-null  float64\n",
      " 7   blood_glucose_level  100000 non-null  int64  \n",
      " 8   diabetes             100000 non-null  int64  \n",
      "dtypes: float64(3), int64(4), object(2)\n",
      "memory usage: 6.9+ MB\n"
     ]
    }
   ],
   "source": [
    "df1.info()"
   ]
  },
  {
   "cell_type": "markdown",
   "id": "be37be6c",
   "metadata": {},
   "source": [
    "### Univariate analysis"
   ]
  },
  {
   "cell_type": "code",
   "execution_count": 5,
   "id": "1bd2e6c7",
   "metadata": {},
   "outputs": [],
   "source": [
    "def univariate_analysis(df, feature):\n",
    "    counts = df[feature].value_counts()\n",
    "    # Plot bar chart\n",
    "    sns.barplot(x=counts.index, y=counts.values)\n",
    "    plt.xlabel(feature)\n",
    "    plt.ylabel('Count')\n",
    "    plt.title(f'Univariate Analysis of {feature}')\n",
    "    plt.show()\n",
    "    return None"
   ]
  },
  {
   "cell_type": "code",
   "execution_count": 6,
   "id": "993b816d",
   "metadata": {},
   "outputs": [
    {
     "data": {
      "image/png": "[encoded data removed]",
      "text/plain": [
       "<Figure size 640x480 with 1 Axes>"
      ]
     },
     "metadata": {},
     "output_type": "display_data"
    }
   ],
   "source": [
    "univariate_analysis(df1,'gender')"
   ]
  },
  {
   "cell_type": "code",
   "execution_count": 7,
   "id": "669e70dd",
   "metadata": {},
   "outputs": [
    {
     "data": {
      "image/png": "[encoded data removed]",
      "text/plain": [
       "<Figure size 640x480 with 1 Axes>"
      ]
     },
     "metadata": {},
     "output_type": "display_data"
    }
   ],
   "source": [
    "univariate_analysis(df1,'heart_disease')"
   ]
  },
  {
   "cell_type": "code",
   "execution_count": 8,
   "id": "ddfe95fe",
   "metadata": {},
   "outputs": [
    {
     "data": {
      "image/png": "[encoded data removed]",
      "text/plain": [
       "<Figure size 640x480 with 1 Axes>"
      ]
     },
     "metadata": {},
     "output_type": "display_data"
    }
   ],
   "source": [
    "univariate_analysis(df1,'hypertension')"
   ]
  },
  {
   "cell_type": "code",
   "execution_count": 9,
   "id": "e76dda0b",
   "metadata": {},
   "outputs": [
    {
     "data": {
      "image/png": "[encoded data removed]",
      "text/plain": [
       "<Figure size 640x480 with 1 Axes>"
      ]
     },
     "metadata": {},
     "output_type": "display_data"
    }
   ],
   "source": [
    "univariate_analysis(df1,'smoking_history')"
   ]
  },
  {
   "cell_type": "code",
   "execution_count": 10,
   "id": "9a7a458f",
   "metadata": {},
   "outputs": [
    {
     "data": {
      "image/png": "[encoded data removed]",
      "text/plain": [
       "<Figure size 640x480 with 1 Axes>"
      ]
     },
     "metadata": {},
     "output_type": "display_data"
    }
   ],
   "source": [
    "univariate_analysis(df1,'diabetes')"
   ]
  },
  {
   "cell_type": "code",
   "execution_count": 11,
   "id": "eca3f409",
   "metadata": {},
   "outputs": [],
   "source": [
    "def univariate_analysis1(df, feature, top_n=10):\n",
    "    # Create bins of size 10 for the continuous variable\n",
    "    bins = pd.cut(df[feature], bins=10, precision=0, include_lowest=True)\n",
    "    counts = bins.value_counts().nlargest(top_n)\n",
    "    \n",
    "    # Plot bar chart\n",
    "    sns.barplot(x=counts.index, y=counts.values, order=counts.index)\n",
    "    plt.xlabel(f'{feature} Bins')\n",
    "    plt.ylabel('Count')\n",
    "    plt.title(f'Top {top_n} Univariate Analysis of {feature}')\n",
    "    plt.xticks(rotation=45)  # Rotate x-axis labels for better visibility\n",
    "    plt.show()\n",
    "    return None\n"
   ]
  },
  {
   "cell_type": "code",
   "execution_count": 12,
   "id": "1c69c092",
   "metadata": {},
   "outputs": [],
   "source": [
    "# Univariate analysis for continous variables\n",
    "def univariate_analysis1(df, feature, top_n=10):\n",
    "    counts = df[feature].value_counts().nlargest(top_n)\n",
    "    # Plot bar chart\n",
    "    sns.barplot(x=counts.index, y=counts.values, order=counts.index)\n",
    "    plt.xlabel(feature)\n",
    "    plt.ylabel('Count')\n",
    "    plt.title(f'Top {top_n} Univariate Analysis of {feature}')\n",
    "    plt.xticks(rotation=45)  # Rotate x-axis labels for better visibility\n",
    "    plt.show()\n",
    "    return None"
   ]
  },
  {
   "cell_type": "code",
   "execution_count": 13,
   "id": "a40a1dbf",
   "metadata": {},
   "outputs": [
    {
     "data": {
      "image/png": "[encoded data removed]",
      "text/plain": [
       "<Figure size 640x480 with 1 Axes>"
      ]
     },
     "metadata": {},
     "output_type": "display_data"
    }
   ],
   "source": [
    "univariate_analysis1(df1,'age')"
   ]
  },
  {
   "cell_type": "code",
   "execution_count": 14,
   "id": "be1d6284",
   "metadata": {},
   "outputs": [
    {
     "data": {
      "image/png": "[encoded data removed]",
      "text/plain": [
       "<Figure size 640x480 with 1 Axes>"
      ]
     },
     "metadata": {},
     "output_type": "display_data"
    }
   ],
   "source": [
    "univariate_analysis1(df1,'bmi')"
   ]
  },
  {
   "cell_type": "markdown",
   "id": "a8141b6d",
   "metadata": {},
   "source": [
    "### Bivariate Analysis"
   ]
  },
  {
   "cell_type": "code",
   "execution_count": 15,
   "id": "29c1d783",
   "metadata": {},
   "outputs": [
    {
     "data": {
      "image/png": "[encoded data removed]",
      "text/plain": [
       "<Figure size 640x480 with 1 Axes>"
      ]
     },
     "metadata": {},
     "output_type": "display_data"
    }
   ],
   "source": [
    "import seaborn as sns\n",
    "import matplotlib.pyplot as plt\n",
    "\n",
    "def plot_diabetes_count_by_features(df, feature):\n",
    "    # Create a DataFrame containing the counts of diabetes and non-diabetes for each category of the feature\n",
    "    counts_df = df.groupby([feature, 'diabetes']).size().unstack()\n",
    "\n",
    "    # Create a stacked bar chart\n",
    "    counts_df.plot(kind='bar', stacked=True)\n",
    "\n",
    "    plt.xlabel(feature.capitalize())\n",
    "    plt.ylabel('Count')\n",
    "    plt.title(f'Count of Individuals with Diabetes by {feature.capitalize()}')\n",
    "    plt.legend(title='Diabetes', labels=['No Diabetes', 'Diabetes'])\n",
    "    plt.xticks(rotation=0)\n",
    "    plt.show()\n",
    "\n",
    "# Example usage with your DataFrame 'df1' and the feature 'gender':\n",
    "plot_diabetes_count_by_features(df1, 'gender')\n"
   ]
  },
  {
   "cell_type": "code",
   "execution_count": 16,
   "id": "b40fe06f",
   "metadata": {},
   "outputs": [
    {
     "data": {
      "image/png": "[encoded data removed]",
      "text/plain": [
       "<Figure size 640x480 with 1 Axes>"
      ]
     },
     "metadata": {},
     "output_type": "display_data"
    }
   ],
   "source": [
    "plot_diabetes_count_by_features(df1, 'hypertension')"
   ]
  },
  {
   "cell_type": "code",
   "execution_count": 17,
   "id": "35feedfb",
   "metadata": {},
   "outputs": [
    {
     "data": {
      "image/png": "[encoded data removed]",
      "text/plain": [
       "<Figure size 640x480 with 1 Axes>"
      ]
     },
     "metadata": {},
     "output_type": "display_data"
    }
   ],
   "source": [
    "plot_diabetes_count_by_features(df1, 'hypertension')"
   ]
  },
  {
   "cell_type": "code",
   "execution_count": 18,
   "id": "7341e84c",
   "metadata": {},
   "outputs": [
    {
     "data": {
      "image/png": "[encoded data removed]",
      "text/plain": [
       "<Figure size 640x480 with 1 Axes>"
      ]
     },
     "metadata": {},
     "output_type": "display_data"
    }
   ],
   "source": [
    "plot_diabetes_count_by_features(df1, 'smoking_history')"
   ]
  },
  {
   "cell_type": "code",
   "execution_count": 19,
   "id": "c0bce660",
   "metadata": {},
   "outputs": [
    {
     "data": {
      "image/png": "[encoded data removed]",
      "text/plain": [
       "<Figure size 640x480 with 1 Axes>"
      ]
     },
     "metadata": {},
     "output_type": "display_data"
    }
   ],
   "source": [
    "sns.scatterplot(data=df1, x='bmi', y='diabetes' );"
   ]
  },
  {
   "cell_type": "markdown",
   "id": "12037254",
   "metadata": {},
   "source": [
    "# Modeling"
   ]
  },
  {
   "cell_type": "code",
   "execution_count": 20,
   "id": "93b3a988",
   "metadata": {},
   "outputs": [
    {
     "data": {
      "text/html": [
       "<div>\n",
       "<style scoped>\n",
       "    .dataframe tbody tr th:only-of-type {\n",
       "        vertical-align: middle;\n",
       "    }\n",
       "\n",
       "    .dataframe tbody tr th {\n",
       "        vertical-align: top;\n",
       "    }\n",
       "\n",
       "    .dataframe thead th {\n",
       "        text-align: right;\n",
       "    }\n",
       "</style>\n",
       "<table border=\"1\" class=\"dataframe\">\n",
       "  <thead>\n",
       "    <tr style=\"text-align: right;\">\n",
       "      <th></th>\n",
       "      <th>gender</th>\n",
       "      <th>age</th>\n",
       "      <th>hypertension</th>\n",
       "      <th>heart_disease</th>\n",
       "      <th>smoking_history</th>\n",
       "      <th>bmi</th>\n",
       "      <th>HbA1c_level</th>\n",
       "      <th>blood_glucose_level</th>\n",
       "      <th>diabetes</th>\n",
       "    </tr>\n",
       "  </thead>\n",
       "  <tbody>\n",
       "    <tr>\n",
       "      <th>0</th>\n",
       "      <td>Female</td>\n",
       "      <td>80.0</td>\n",
       "      <td>0</td>\n",
       "      <td>1</td>\n",
       "      <td>never</td>\n",
       "      <td>25.19</td>\n",
       "      <td>6.6</td>\n",
       "      <td>140</td>\n",
       "      <td>0</td>\n",
       "    </tr>\n",
       "    <tr>\n",
       "      <th>1</th>\n",
       "      <td>Female</td>\n",
       "      <td>54.0</td>\n",
       "      <td>0</td>\n",
       "      <td>0</td>\n",
       "      <td>No Info</td>\n",
       "      <td>27.32</td>\n",
       "      <td>6.6</td>\n",
       "      <td>80</td>\n",
       "      <td>0</td>\n",
       "    </tr>\n",
       "    <tr>\n",
       "      <th>2</th>\n",
       "      <td>Male</td>\n",
       "      <td>28.0</td>\n",
       "      <td>0</td>\n",
       "      <td>0</td>\n",
       "      <td>never</td>\n",
       "      <td>27.32</td>\n",
       "      <td>5.7</td>\n",
       "      <td>158</td>\n",
       "      <td>0</td>\n",
       "    </tr>\n",
       "    <tr>\n",
       "      <th>3</th>\n",
       "      <td>Female</td>\n",
       "      <td>36.0</td>\n",
       "      <td>0</td>\n",
       "      <td>0</td>\n",
       "      <td>current</td>\n",
       "      <td>23.45</td>\n",
       "      <td>5.0</td>\n",
       "      <td>155</td>\n",
       "      <td>0</td>\n",
       "    </tr>\n",
       "    <tr>\n",
       "      <th>4</th>\n",
       "      <td>Male</td>\n",
       "      <td>76.0</td>\n",
       "      <td>1</td>\n",
       "      <td>1</td>\n",
       "      <td>current</td>\n",
       "      <td>20.14</td>\n",
       "      <td>4.8</td>\n",
       "      <td>155</td>\n",
       "      <td>0</td>\n",
       "    </tr>\n",
       "  </tbody>\n",
       "</table>\n",
       "</div>"
      ],
      "text/plain": [
       "   gender   age  hypertension  heart_disease smoking_history    bmi  \\\n",
       "0  Female  80.0             0              1           never  25.19   \n",
       "1  Female  54.0             0              0         No Info  27.32   \n",
       "2    Male  28.0             0              0           never  27.32   \n",
       "3  Female  36.0             0              0         current  23.45   \n",
       "4    Male  76.0             1              1         current  20.14   \n",
       "\n",
       "   HbA1c_level  blood_glucose_level  diabetes  \n",
       "0          6.6                  140         0  \n",
       "1          6.6                   80         0  \n",
       "2          5.7                  158         0  \n",
       "3          5.0                  155         0  \n",
       "4          4.8                  155         0  "
      ]
     },
     "execution_count": 20,
     "metadata": {},
     "output_type": "execute_result"
    }
   ],
   "source": [
    "# Svm\n",
    "df1.head()"
   ]
  },
  {
   "cell_type": "code",
   "execution_count": 21,
   "id": "8e297241",
   "metadata": {},
   "outputs": [
    {
     "data": {
      "text/plain": [
       "0    91500\n",
       "1     8500\n",
       "Name: diabetes, dtype: int64"
      ]
     },
     "execution_count": 21,
     "metadata": {},
     "output_type": "execute_result"
    }
   ],
   "source": [
    "df1['diabetes'].value_counts()"
   ]
  },
  {
   "cell_type": "code",
   "execution_count": 22,
   "id": "115c20b3",
   "metadata": {},
   "outputs": [
    {
     "data": {
      "text/html": [
       "<div>\n",
       "<style scoped>\n",
       "    .dataframe tbody tr th:only-of-type {\n",
       "        vertical-align: middle;\n",
       "    }\n",
       "\n",
       "    .dataframe tbody tr th {\n",
       "        vertical-align: top;\n",
       "    }\n",
       "\n",
       "    .dataframe thead th {\n",
       "        text-align: right;\n",
       "    }\n",
       "</style>\n",
       "<table border=\"1\" class=\"dataframe\">\n",
       "  <thead>\n",
       "    <tr style=\"text-align: right;\">\n",
       "      <th></th>\n",
       "      <th>gender</th>\n",
       "      <th>age</th>\n",
       "      <th>hypertension</th>\n",
       "      <th>heart_disease</th>\n",
       "      <th>smoking_history</th>\n",
       "      <th>bmi</th>\n",
       "      <th>HbA1c_level</th>\n",
       "      <th>blood_glucose_level</th>\n",
       "      <th>diabetes</th>\n",
       "    </tr>\n",
       "  </thead>\n",
       "  <tbody>\n",
       "    <tr>\n",
       "      <th>0</th>\n",
       "      <td>Female</td>\n",
       "      <td>80.0</td>\n",
       "      <td>0</td>\n",
       "      <td>1</td>\n",
       "      <td>never</td>\n",
       "      <td>25.19</td>\n",
       "      <td>6.6</td>\n",
       "      <td>140</td>\n",
       "      <td>0</td>\n",
       "    </tr>\n",
       "    <tr>\n",
       "      <th>1</th>\n",
       "      <td>Female</td>\n",
       "      <td>54.0</td>\n",
       "      <td>0</td>\n",
       "      <td>0</td>\n",
       "      <td>No Info</td>\n",
       "      <td>27.32</td>\n",
       "      <td>6.6</td>\n",
       "      <td>80</td>\n",
       "      <td>0</td>\n",
       "    </tr>\n",
       "    <tr>\n",
       "      <th>2</th>\n",
       "      <td>Male</td>\n",
       "      <td>28.0</td>\n",
       "      <td>0</td>\n",
       "      <td>0</td>\n",
       "      <td>never</td>\n",
       "      <td>27.32</td>\n",
       "      <td>5.7</td>\n",
       "      <td>158</td>\n",
       "      <td>0</td>\n",
       "    </tr>\n",
       "    <tr>\n",
       "      <th>3</th>\n",
       "      <td>Female</td>\n",
       "      <td>36.0</td>\n",
       "      <td>0</td>\n",
       "      <td>0</td>\n",
       "      <td>current</td>\n",
       "      <td>23.45</td>\n",
       "      <td>5.0</td>\n",
       "      <td>155</td>\n",
       "      <td>0</td>\n",
       "    </tr>\n",
       "    <tr>\n",
       "      <th>4</th>\n",
       "      <td>Male</td>\n",
       "      <td>76.0</td>\n",
       "      <td>1</td>\n",
       "      <td>1</td>\n",
       "      <td>current</td>\n",
       "      <td>20.14</td>\n",
       "      <td>4.8</td>\n",
       "      <td>155</td>\n",
       "      <td>0</td>\n",
       "    </tr>\n",
       "    <tr>\n",
       "      <th>5</th>\n",
       "      <td>Female</td>\n",
       "      <td>20.0</td>\n",
       "      <td>0</td>\n",
       "      <td>0</td>\n",
       "      <td>never</td>\n",
       "      <td>27.32</td>\n",
       "      <td>6.6</td>\n",
       "      <td>85</td>\n",
       "      <td>0</td>\n",
       "    </tr>\n",
       "    <tr>\n",
       "      <th>6</th>\n",
       "      <td>Female</td>\n",
       "      <td>44.0</td>\n",
       "      <td>0</td>\n",
       "      <td>0</td>\n",
       "      <td>never</td>\n",
       "      <td>19.31</td>\n",
       "      <td>6.5</td>\n",
       "      <td>200</td>\n",
       "      <td>1</td>\n",
       "    </tr>\n",
       "    <tr>\n",
       "      <th>7</th>\n",
       "      <td>Female</td>\n",
       "      <td>79.0</td>\n",
       "      <td>0</td>\n",
       "      <td>0</td>\n",
       "      <td>No Info</td>\n",
       "      <td>23.86</td>\n",
       "      <td>5.7</td>\n",
       "      <td>85</td>\n",
       "      <td>0</td>\n",
       "    </tr>\n",
       "    <tr>\n",
       "      <th>8</th>\n",
       "      <td>Male</td>\n",
       "      <td>42.0</td>\n",
       "      <td>0</td>\n",
       "      <td>0</td>\n",
       "      <td>never</td>\n",
       "      <td>33.64</td>\n",
       "      <td>4.8</td>\n",
       "      <td>145</td>\n",
       "      <td>0</td>\n",
       "    </tr>\n",
       "    <tr>\n",
       "      <th>9</th>\n",
       "      <td>Female</td>\n",
       "      <td>32.0</td>\n",
       "      <td>0</td>\n",
       "      <td>0</td>\n",
       "      <td>never</td>\n",
       "      <td>27.32</td>\n",
       "      <td>5.0</td>\n",
       "      <td>100</td>\n",
       "      <td>0</td>\n",
       "    </tr>\n",
       "    <tr>\n",
       "      <th>10</th>\n",
       "      <td>Female</td>\n",
       "      <td>53.0</td>\n",
       "      <td>0</td>\n",
       "      <td>0</td>\n",
       "      <td>never</td>\n",
       "      <td>27.32</td>\n",
       "      <td>6.1</td>\n",
       "      <td>85</td>\n",
       "      <td>0</td>\n",
       "    </tr>\n",
       "    <tr>\n",
       "      <th>11</th>\n",
       "      <td>Female</td>\n",
       "      <td>54.0</td>\n",
       "      <td>0</td>\n",
       "      <td>0</td>\n",
       "      <td>former</td>\n",
       "      <td>54.70</td>\n",
       "      <td>6.0</td>\n",
       "      <td>100</td>\n",
       "      <td>0</td>\n",
       "    </tr>\n",
       "  </tbody>\n",
       "</table>\n",
       "</div>"
      ],
      "text/plain": [
       "    gender   age  hypertension  heart_disease smoking_history    bmi  \\\n",
       "0   Female  80.0             0              1           never  25.19   \n",
       "1   Female  54.0             0              0         No Info  27.32   \n",
       "2     Male  28.0             0              0           never  27.32   \n",
       "3   Female  36.0             0              0         current  23.45   \n",
       "4     Male  76.0             1              1         current  20.14   \n",
       "5   Female  20.0             0              0           never  27.32   \n",
       "6   Female  44.0             0              0           never  19.31   \n",
       "7   Female  79.0             0              0         No Info  23.86   \n",
       "8     Male  42.0             0              0           never  33.64   \n",
       "9   Female  32.0             0              0           never  27.32   \n",
       "10  Female  53.0             0              0           never  27.32   \n",
       "11  Female  54.0             0              0          former  54.70   \n",
       "\n",
       "    HbA1c_level  blood_glucose_level  diabetes  \n",
       "0           6.6                  140         0  \n",
       "1           6.6                   80         0  \n",
       "2           5.7                  158         0  \n",
       "3           5.0                  155         0  \n",
       "4           4.8                  155         0  \n",
       "5           6.6                   85         0  \n",
       "6           6.5                  200         1  \n",
       "7           5.7                   85         0  \n",
       "8           4.8                  145         0  \n",
       "9           5.0                  100         0  \n",
       "10          6.1                   85         0  \n",
       "11          6.0                  100         0  "
      ]
     },
     "execution_count": 22,
     "metadata": {},
     "output_type": "execute_result"
    }
   ],
   "source": [
    "df1.head(12)"
   ]
  },
  {
   "cell_type": "code",
   "execution_count": 23,
   "id": "03fe221c",
   "metadata": {},
   "outputs": [
    {
     "data": {
      "text/plain": [
       "array([0, 1], dtype=int64)"
      ]
     },
     "execution_count": 23,
     "metadata": {},
     "output_type": "execute_result"
    }
   ],
   "source": [
    "df1['diabetes'].unique()"
   ]
  },
  {
   "cell_type": "code",
   "execution_count": 24,
   "id": "b3405167",
   "metadata": {},
   "outputs": [
    {
     "data": {
      "text/html": [
       "<div>\n",
       "<style scoped>\n",
       "    .dataframe tbody tr th:only-of-type {\n",
       "        vertical-align: middle;\n",
       "    }\n",
       "\n",
       "    .dataframe tbody tr th {\n",
       "        vertical-align: top;\n",
       "    }\n",
       "\n",
       "    .dataframe thead th {\n",
       "        text-align: right;\n",
       "    }\n",
       "</style>\n",
       "<table border=\"1\" class=\"dataframe\">\n",
       "  <thead>\n",
       "    <tr style=\"text-align: right;\">\n",
       "      <th></th>\n",
       "      <th>age</th>\n",
       "      <th>hypertension</th>\n",
       "      <th>heart_disease</th>\n",
       "      <th>bmi</th>\n",
       "      <th>HbA1c_level</th>\n",
       "      <th>blood_glucose_level</th>\n",
       "    </tr>\n",
       "    <tr>\n",
       "      <th>diabetes</th>\n",
       "      <th></th>\n",
       "      <th></th>\n",
       "      <th></th>\n",
       "      <th></th>\n",
       "      <th></th>\n",
       "      <th></th>\n",
       "    </tr>\n",
       "  </thead>\n",
       "  <tbody>\n",
       "    <tr>\n",
       "      <th>0</th>\n",
       "      <td>40.115187</td>\n",
       "      <td>0.058984</td>\n",
       "      <td>0.029235</td>\n",
       "      <td>26.887163</td>\n",
       "      <td>5.396761</td>\n",
       "      <td>132.852470</td>\n",
       "    </tr>\n",
       "    <tr>\n",
       "      <th>1</th>\n",
       "      <td>60.946588</td>\n",
       "      <td>0.245647</td>\n",
       "      <td>0.149059</td>\n",
       "      <td>31.988382</td>\n",
       "      <td>6.934953</td>\n",
       "      <td>194.094706</td>\n",
       "    </tr>\n",
       "  </tbody>\n",
       "</table>\n",
       "</div>"
      ],
      "text/plain": [
       "                age  hypertension  heart_disease        bmi  HbA1c_level  \\\n",
       "diabetes                                                                   \n",
       "0         40.115187      0.058984       0.029235  26.887163     5.396761   \n",
       "1         60.946588      0.245647       0.149059  31.988382     6.934953   \n",
       "\n",
       "          blood_glucose_level  \n",
       "diabetes                       \n",
       "0                  132.852470  \n",
       "1                  194.094706  "
      ]
     },
     "execution_count": 24,
     "metadata": {},
     "output_type": "execute_result"
    }
   ],
   "source": [
    "df1.groupby('diabetes').mean(numeric_only=True)"
   ]
  },
  {
   "cell_type": "code",
   "execution_count": 25,
   "id": "9a2b338a",
   "metadata": {},
   "outputs": [
    {
     "name": "stdout",
     "output_type": "stream",
     "text": [
      "       gender   age  hypertension  heart_disease smoking_history    bmi  \\\n",
      "0      Female  80.0             0              1           never  25.19   \n",
      "1      Female  54.0             0              0         No Info  27.32   \n",
      "2        Male  28.0             0              0           never  27.32   \n",
      "3      Female  36.0             0              0         current  23.45   \n",
      "4        Male  76.0             1              1         current  20.14   \n",
      "...       ...   ...           ...            ...             ...    ...   \n",
      "99995  Female  80.0             0              0         No Info  27.32   \n",
      "99996  Female   2.0             0              0         No Info  17.37   \n",
      "99997    Male  66.0             0              0          former  27.83   \n",
      "99998  Female  24.0             0              0           never  35.42   \n",
      "99999  Female  57.0             0              0         current  22.43   \n",
      "\n",
      "       HbA1c_level  blood_glucose_level  diabetes  encoded_smoking_history  \\\n",
      "0              6.6                  140         0                        4   \n",
      "1              6.6                   80         0                        0   \n",
      "2              5.7                  158         0                        4   \n",
      "3              5.0                  155         0                        1   \n",
      "4              4.8                  155         0                        1   \n",
      "...            ...                  ...       ...                      ...   \n",
      "99995          6.2                   90         0                        0   \n",
      "99996          6.5                  100         0                        0   \n",
      "99997          5.7                  155         0                        3   \n",
      "99998          4.0                  100         0                        4   \n",
      "99999          6.6                   90         0                        1   \n",
      "\n",
      "       encoded_gender  \n",
      "0                   0  \n",
      "1                   0  \n",
      "2                   1  \n",
      "3                   0  \n",
      "4                   1  \n",
      "...               ...  \n",
      "99995               0  \n",
      "99996               0  \n",
      "99997               1  \n",
      "99998               0  \n",
      "99999               0  \n",
      "\n",
      "[100000 rows x 11 columns]\n",
      "encoded_smoking_history: 4, smoking_history: never\n",
      "encoded_smoking_history: 0, smoking_history: No Info\n",
      "encoded_smoking_history: 1, smoking_history: current\n",
      "encoded_smoking_history: 3, smoking_history: former\n",
      "encoded_smoking_history: 2, smoking_history: ever\n",
      "encoded_smoking_history: 5, smoking_history: not current\n",
      "encoded_gender: 0, gender: Female\n",
      "encoded_gender: 1, gender: Male\n",
      "encoded_gender: 2, gender: Other\n"
     ]
    }
   ],
   "source": [
    "import pandas as pd\n",
    "from sklearn.preprocessing import LabelEncoder\n",
    "\n",
    "# Creating a copy of the DataFrame to avoid modifying the original data\n",
    "encoded_df = df1.copy()\n",
    "\n",
    "# Creating a LabelEncoder object\n",
    "label_encoder = LabelEncoder()\n",
    "\n",
    "# Fit and transform the 'smoking_history' column\n",
    "encoded_df['encoded_smoking_history'] = label_encoder.fit_transform(encoded_df['smoking_history'])\n",
    "\n",
    "# Fit and transform the 'gender' column\n",
    "encoded_df['encoded_gender'] = label_encoder.fit_transform(encoded_df['gender'])\n",
    "\n",
    "# Display the encoded DataFrame\n",
    "print(encoded_df)\n",
    "\n",
    "unique_values = encoded_df[['encoded_smoking_history', 'smoking_history']].drop_duplicates().values\n",
    "for value in unique_values:\n",
    "    encoded_smoking_history, smoking_history = value\n",
    "    print(f\"encoded_smoking_history: {encoded_smoking_history}, smoking_history: {smoking_history}\")\n",
    "\n",
    "unique_values = encoded_df[['encoded_gender', 'gender']].drop_duplicates().values\n",
    "for value in unique_values:\n",
    "    encoded_gender, gender = value\n",
    "    print(f\"encoded_gender: {encoded_gender}, gender: {gender}\")\n"
   ]
  },
  {
   "cell_type": "code",
   "execution_count": 26,
   "id": "16cbffe0",
   "metadata": {},
   "outputs": [
    {
     "name": "stdout",
     "output_type": "stream",
     "text": [
      "        age  hypertension  heart_disease    bmi  HbA1c_level  \\\n",
      "0      80.0             0              1  25.19          6.6   \n",
      "1      54.0             0              0  27.32          6.6   \n",
      "2      28.0             0              0  27.32          5.7   \n",
      "3      36.0             0              0  23.45          5.0   \n",
      "4      76.0             1              1  20.14          4.8   \n",
      "...     ...           ...            ...    ...          ...   \n",
      "99995  80.0             0              0  27.32          6.2   \n",
      "99996   2.0             0              0  17.37          6.5   \n",
      "99997  66.0             0              0  27.83          5.7   \n",
      "99998  24.0             0              0  35.42          4.0   \n",
      "99999  57.0             0              0  22.43          6.6   \n",
      "\n",
      "       blood_glucose_level  diabetes  encoded_smoking_history  encoded_gender  \n",
      "0                      140         0                        4               0  \n",
      "1                       80         0                        0               0  \n",
      "2                      158         0                        4               1  \n",
      "3                      155         0                        1               0  \n",
      "4                      155         0                        1               1  \n",
      "...                    ...       ...                      ...             ...  \n",
      "99995                   90         0                        0               0  \n",
      "99996                  100         0                        0               0  \n",
      "99997                  155         0                        3               1  \n",
      "99998                  100         0                        4               0  \n",
      "99999                   90         0                        1               0  \n",
      "\n",
      "[100000 rows x 9 columns]\n"
     ]
    }
   ],
   "source": [
    "# Drop the original 'smoking_history' and 'gender' columns\n",
    "encoded_df.drop(['smoking_history', 'gender'], axis=1, inplace=True)\n",
    "\n",
    "# Display the DataFrame after dropping the columns\n",
    "print(encoded_df)\n"
   ]
  },
  {
   "cell_type": "code",
   "execution_count": 27,
   "id": "58803e9b",
   "metadata": {},
   "outputs": [
    {
     "name": "stdout",
     "output_type": "stream",
     "text": [
      "        age  hypertension  heart_disease    bmi  HbA1c_level  \\\n",
      "0      80.0             0              1  25.19          6.6   \n",
      "1      54.0             0              0  27.32          6.6   \n",
      "2      28.0             0              0  27.32          5.7   \n",
      "3      36.0             0              0  23.45          5.0   \n",
      "4      76.0             1              1  20.14          4.8   \n",
      "...     ...           ...            ...    ...          ...   \n",
      "99995  80.0             0              0  27.32          6.2   \n",
      "99996   2.0             0              0  17.37          6.5   \n",
      "99997  66.0             0              0  27.83          5.7   \n",
      "99998  24.0             0              0  35.42          4.0   \n",
      "99999  57.0             0              0  22.43          6.6   \n",
      "\n",
      "       blood_glucose_level  encoded_smoking_history  encoded_gender  diabetes  \n",
      "0                      140                        4               0         0  \n",
      "1                       80                        0               0         0  \n",
      "2                      158                        4               1         0  \n",
      "3                      155                        1               0         0  \n",
      "4                      155                        1               1         0  \n",
      "...                    ...                      ...             ...       ...  \n",
      "99995                   90                        0               0         0  \n",
      "99996                  100                        0               0         0  \n",
      "99997                  155                        3               1         0  \n",
      "99998                  100                        4               0         0  \n",
      "99999                   90                        1               0         0  \n",
      "\n",
      "[100000 rows x 9 columns]\n"
     ]
    }
   ],
   "source": [
    "# Reordering the dataframe\n",
    "# Get the list of column names in the original order\n",
    "original_columns = encoded_df.columns.tolist()\n",
    "\n",
    "# Define the new column order\n",
    "new_column_order = [\n",
    "    'age','hypertension','heart_disease','bmi','HbA1c_level', 'blood_glucose_level','encoded_smoking_history','encoded_gender','diabetes'\n",
    "]\n",
    "\n",
    "# Create a new DataFrame with columns rearranged\n",
    "encoded_df = encoded_df[new_column_order]\n",
    "\n",
    "# Print the new DataFrame\n",
    "print(encoded_df)\n"
   ]
  },
  {
   "cell_type": "code",
   "execution_count": 28,
   "id": "079579dd",
   "metadata": {},
   "outputs": [],
   "source": [
    "# Save the new dataframe in excel format\n",
    "encoded_df.to_csv('New_diabetes_df.csv', index = True)"
   ]
  },
  {
   "cell_type": "code",
   "execution_count": 29,
   "id": "d2bfc097",
   "metadata": {},
   "outputs": [
    {
     "data": {
      "text/html": [
       "<div>\n",
       "<style scoped>\n",
       "    .dataframe tbody tr th:only-of-type {\n",
       "        vertical-align: middle;\n",
       "    }\n",
       "\n",
       "    .dataframe tbody tr th {\n",
       "        vertical-align: top;\n",
       "    }\n",
       "\n",
       "    .dataframe thead th {\n",
       "        text-align: right;\n",
       "    }\n",
       "</style>\n",
       "<table border=\"1\" class=\"dataframe\">\n",
       "  <thead>\n",
       "    <tr style=\"text-align: right;\">\n",
       "      <th></th>\n",
       "      <th>age</th>\n",
       "      <th>hypertension</th>\n",
       "      <th>heart_disease</th>\n",
       "      <th>bmi</th>\n",
       "      <th>HbA1c_level</th>\n",
       "      <th>blood_glucose_level</th>\n",
       "      <th>encoded_smoking_history</th>\n",
       "      <th>encoded_gender</th>\n",
       "      <th>diabetes</th>\n",
       "    </tr>\n",
       "  </thead>\n",
       "  <tbody>\n",
       "    <tr>\n",
       "      <th>0</th>\n",
       "      <td>80.0</td>\n",
       "      <td>0</td>\n",
       "      <td>1</td>\n",
       "      <td>25.19</td>\n",
       "      <td>6.6</td>\n",
       "      <td>140</td>\n",
       "      <td>4</td>\n",
       "      <td>0</td>\n",
       "      <td>0</td>\n",
       "    </tr>\n",
       "    <tr>\n",
       "      <th>1</th>\n",
       "      <td>54.0</td>\n",
       "      <td>0</td>\n",
       "      <td>0</td>\n",
       "      <td>27.32</td>\n",
       "      <td>6.6</td>\n",
       "      <td>80</td>\n",
       "      <td>0</td>\n",
       "      <td>0</td>\n",
       "      <td>0</td>\n",
       "    </tr>\n",
       "    <tr>\n",
       "      <th>2</th>\n",
       "      <td>28.0</td>\n",
       "      <td>0</td>\n",
       "      <td>0</td>\n",
       "      <td>27.32</td>\n",
       "      <td>5.7</td>\n",
       "      <td>158</td>\n",
       "      <td>4</td>\n",
       "      <td>1</td>\n",
       "      <td>0</td>\n",
       "    </tr>\n",
       "    <tr>\n",
       "      <th>3</th>\n",
       "      <td>36.0</td>\n",
       "      <td>0</td>\n",
       "      <td>0</td>\n",
       "      <td>23.45</td>\n",
       "      <td>5.0</td>\n",
       "      <td>155</td>\n",
       "      <td>1</td>\n",
       "      <td>0</td>\n",
       "      <td>0</td>\n",
       "    </tr>\n",
       "    <tr>\n",
       "      <th>4</th>\n",
       "      <td>76.0</td>\n",
       "      <td>1</td>\n",
       "      <td>1</td>\n",
       "      <td>20.14</td>\n",
       "      <td>4.8</td>\n",
       "      <td>155</td>\n",
       "      <td>1</td>\n",
       "      <td>1</td>\n",
       "      <td>0</td>\n",
       "    </tr>\n",
       "  </tbody>\n",
       "</table>\n",
       "</div>"
      ],
      "text/plain": [
       "    age  hypertension  heart_disease    bmi  HbA1c_level  blood_glucose_level  \\\n",
       "0  80.0             0              1  25.19          6.6                  140   \n",
       "1  54.0             0              0  27.32          6.6                   80   \n",
       "2  28.0             0              0  27.32          5.7                  158   \n",
       "3  36.0             0              0  23.45          5.0                  155   \n",
       "4  76.0             1              1  20.14          4.8                  155   \n",
       "\n",
       "   encoded_smoking_history  encoded_gender  diabetes  \n",
       "0                        4               0         0  \n",
       "1                        0               0         0  \n",
       "2                        4               1         0  \n",
       "3                        1               0         0  \n",
       "4                        1               1         0  "
      ]
     },
     "execution_count": 29,
     "metadata": {},
     "output_type": "execute_result"
    }
   ],
   "source": [
    "encoded_df.head()"
   ]
  },
  {
   "cell_type": "code",
   "execution_count": 30,
   "id": "6eeaeaf0",
   "metadata": {},
   "outputs": [
    {
     "name": "stdout",
     "output_type": "stream",
     "text": [
      "Cross-Validation Scores: [0.96      0.9609375 0.9625625 0.9615625 0.9604375]\n",
      "Mean CV Score: 0.9610999999999998\n",
      "Test Accuracy: 0.9595\n"
     ]
    }
   ],
   "source": [
    "import pandas as pd\n",
    "from sklearn.model_selection import train_test_split\n",
    "from sklearn.svm import SVC\n",
    "from sklearn.preprocessing import StandardScaler\n",
    "from sklearn.model_selection import cross_val_score\n",
    "\n",
    "X = encoded_df.drop('diabetes', axis = 1)# Split the data into training and testing sets\n",
    "y = encoded_df['diabetes']\n",
    "X_train, X_test, y_train, y_test = train_test_split(X, y, test_size=0.2, random_state=42)\n",
    "\n",
    "# Standardize the features to have zero mean and unit variance\n",
    "scaler = StandardScaler()\n",
    "X_train_scaled = scaler.fit_transform(X_train)\n",
    "X_test_scaled = scaler.transform(X_test)\n",
    "\n",
    "# Create an SVM model with C=1.0 for no regularization\n",
    "model = SVC(C=1.0, kernel='linear', random_state=42)\n",
    "\n",
    "# Use cross-validation to estimate model performance\n",
    "cv_scores = cross_val_score(model, X_train_scaled, y_train, cv=5)\n",
    "\n",
    "print(\"Cross-Validation Scores:\", cv_scores)\n",
    "print(\"Mean CV Score:\", cv_scores.mean())\n",
    "\n",
    "# Train the model on the entire training set\n",
    "model.fit(X_train_scaled, y_train)\n",
    "\n",
    "# Evaluate the model on the test set\n",
    "test_accuracy = model.score(X_test_scaled, y_test)\n",
    "print(\"Test Accuracy:\", test_accuracy)\n"
   ]
  },
  {
   "cell_type": "code",
   "execution_count": 31,
   "id": "66a2b7ad",
   "metadata": {},
   "outputs": [
    {
     "name": "stdout",
     "output_type": "stream",
     "text": [
      "Test Accuracy: 0.8858469945355191\n",
      "Test Classification Report:\n",
      "               precision    recall  f1-score   support\n",
      "\n",
      "           0       0.89      0.88      0.88     27369\n",
      "           1       0.88      0.89      0.89     27531\n",
      "\n",
      "    accuracy                           0.89     54900\n",
      "   macro avg       0.89      0.89      0.89     54900\n",
      "weighted avg       0.89      0.89      0.89     54900\n",
      "\n",
      "Train Accuracy: 0.8871975019516003\n",
      "Train Classification Report:\n",
      "               precision    recall  f1-score   support\n",
      "\n",
      "           0       0.89      0.88      0.89     64131\n",
      "           1       0.88      0.89      0.89     63969\n",
      "\n",
      "    accuracy                           0.89    128100\n",
      "   macro avg       0.89      0.89      0.89    128100\n",
      "weighted avg       0.89      0.89      0.89    128100\n",
      "\n"
     ]
    }
   ],
   "source": [
    "from sklearn.model_selection import train_test_split\n",
    "from sklearn.preprocessing import StandardScaler\n",
    "from imblearn.over_sampling import SMOTE\n",
    "from sklearn.linear_model import SGDClassifier\n",
    "from sklearn.metrics import accuracy_score, classification_report\n",
    "\n",
    "# Balance the dataset using SMOTE\n",
    "X = encoded_df.drop('diabetes', axis=1)  # Assuming 'diabetes' is the name of your target variable column\n",
    "y = encoded_df['diabetes']\n",
    "smote = SMOTE(random_state=42)\n",
    "X_balanced, y_balanced = smote.fit_resample(X, y)\n",
    "\n",
    "# Split the balanced dataset into training and testing sets\n",
    "X_train, X_test, y_train, y_test = train_test_split(X_balanced, y_balanced, test_size=0.3, random_state=42)\n",
    "\n",
    "# Feature scaling (optional but can be beneficial for SGDClassifier)\n",
    "scaler = StandardScaler()\n",
    "X_train_scaled = scaler.fit_transform(X_train)\n",
    "X_test_scaled = scaler.transform(X_test)\n",
    "\n",
    "# Initialize and train the SGDClassifier model\n",
    "sgd_classifier = SGDClassifier(loss='hinge', random_state=42)  # Use hinge loss for linear SVM\n",
    "sgd_classifier.fit(X_train_scaled, y_train)\n",
    "\n",
    "# Make predictions on the test set\n",
    "y_test_pred = sgd_classifier.predict(X_test_scaled)\n",
    "y_train_pred = sgd_classifier.predict(X_train_scaled)\n",
    "\n",
    "# Evaluate the model\n",
    "accuracy = accuracy_score(y_test, y_test_pred)\n",
    "classification_report_result = classification_report(y_test, y_test_pred)\n",
    "\n",
    "print(\"Test Accuracy:\", accuracy)\n",
    "print(\"Test Classification Report:\\n\", classification_report_result)\n",
    "\n",
    "# Train performance\n",
    "train_accuracy = accuracy_score(y_train, y_train_pred)\n",
    "train_classification_report_result = classification_report(y_train, y_train_pred)\n",
    "\n",
    "print(\"Train Accuracy:\", train_accuracy)\n",
    "print(\"Train Classification Report:\\n\", train_classification_report_result)\n"
   ]
  },
  {
   "cell_type": "code",
   "execution_count": 32,
   "id": "10e03880",
   "metadata": {},
   "outputs": [
    {
     "name": "stdout",
     "output_type": "stream",
     "text": [
      "Accuracy: 0.8822666666666666\n",
      "Classification Report:\n",
      "               precision    recall  f1-score   support\n",
      "\n",
      "           0       0.99      0.88      0.93     27453\n",
      "           1       0.41      0.86      0.55      2547\n",
      "\n",
      "    accuracy                           0.88     30000\n",
      "   macro avg       0.70      0.87      0.74     30000\n",
      "weighted avg       0.94      0.88      0.90     30000\n",
      "\n"
     ]
    }
   ],
   "source": [
    "import pandas as pd\n",
    "from imblearn.over_sampling import SMOTE\n",
    "from imblearn.under_sampling import RandomUnderSampler\n",
    "from sklearn.model_selection import train_test_split\n",
    "from sklearn.linear_model import SGDClassifier\n",
    "from sklearn.metrics import accuracy_score, classification_report\n",
    "\n",
    "# Assuming you have a DataFrame called 'df' with features and the target variable 'diabetes'\n",
    "X = encoded_df.drop('diabetes', axis=1)\n",
    "y = encoded_df['diabetes']\n",
    "\n",
    "# Split the data into training and testing sets\n",
    "X_train, X_test, y_train, y_test = train_test_split(X, y, test_size=0.3, random_state=42)\n",
    "\n",
    "# Instantiate SMOTE and RandomUnderSampler\n",
    "smote = SMOTE(random_state=42)\n",
    "under_sampler = RandomUnderSampler(random_state=42)\n",
    "\n",
    "# Apply SMOTE to oversample the minority class\n",
    "X_train_resampled, y_train_resampled = smote.fit_resample(X_train, y_train)\n",
    "\n",
    "# Apply RandomUnderSampler to undersample the majority class\n",
    "X_train_resampled, y_train_resampled = under_sampler.fit_resample(X_train_resampled, y_train_resampled)\n",
    "\n",
    "# Initialize and train the SGDClassifier model\n",
    "sgd_classifier = SGDClassifier(loss='hinge', random_state=42)  # Use hinge loss for linear SVM\n",
    "sgd_classifier.fit(X_train_resampled, y_train_resampled)\n",
    "\n",
    "# Make predictions on the test set\n",
    "y_pred = sgd_classifier.predict(X_test)\n",
    "\n",
    "# Evaluate the model\n",
    "accuracy = accuracy_score(y_test, y_pred)\n",
    "classification_report_result = classification_report(y_test, y_pred)\n",
    "\n",
    "print(\"Accuracy:\", accuracy)\n",
    "print(\"Classification Report:\\n\", classification_report_result)\n"
   ]
  },
  {
   "cell_type": "markdown",
   "id": "05120aab",
   "metadata": {},
   "source": [
    "### Predictive System"
   ]
  },
  {
   "cell_type": "code",
   "execution_count": 33,
   "id": "6e9ca80b",
   "metadata": {},
   "outputs": [
    {
     "name": "stdout",
     "output_type": "stream",
     "text": [
      "The person does not have diabetes.\n"
     ]
    },
    {
     "name": "stderr",
     "output_type": "stream",
     "text": [
      "C:\\Users\\NAOMI\\anaconda3\\envs\\test\\lib\\site-packages\\sklearn\\base.py:450: UserWarning: X does not have valid feature names, but StandardScaler was fitted with feature names\n",
      "  warnings.warn(\n"
     ]
    }
   ],
   "source": [
    "import numpy as np\n",
    "\n",
    "# Sample input data for prediction\n",
    "input_data = np.array([53.0,0,0,27.32,7.0,159,3,0]).reshape(1, -1)\n",
    "\n",
    "# Standardize the input data using the same scaler used during training\n",
    "input_data_scaled = scaler.transform(input_data)\n",
    "\n",
    "# Make prediction using the trained SVM model\n",
    "prediction = sgd_classifier.predict(input_data_scaled)\n",
    "\n",
    "# Check the predicted class and output the result\n",
    "if prediction[0] == 0:\n",
    "    print('The person does not have diabetes.')\n",
    "else:\n",
    "    print('The person has diabetes.')\n"
   ]
  },
  {
   "cell_type": "markdown",
   "id": "1ae00682",
   "metadata": {},
   "source": [
    "##### Saving trained model"
   ]
  },
  {
   "cell_type": "code",
   "execution_count": 41,
   "id": "58c1e0f4",
   "metadata": {},
   "outputs": [],
   "source": [
    "import pickle\n"
   ]
  },
  {
   "cell_type": "code",
   "execution_count": 47,
   "id": "87172d50",
   "metadata": {},
   "outputs": [],
   "source": [
    "filename = 'trained_model'\n",
    "pickle.dump(sgd_classifier, open(filename, 'wb'))"
   ]
  },
  {
   "cell_type": "code",
   "execution_count": 48,
   "id": "cb143798",
   "metadata": {},
   "outputs": [],
   "source": [
    "# Load the save model\n",
    "loaded_model = pickle.load(open('trained_model', 'rb'))"
   ]
  },
  {
   "cell_type": "code",
   "execution_count": 49,
   "id": "d8b17427",
   "metadata": {},
   "outputs": [],
   "source": [
    "# Save the scaler to a file\n",
    "scaler_filename = 'scaler'\n",
    "pickle.dump(scaler, open(scaler_filename, 'wb'))"
   ]
  },
  {
   "cell_type": "code",
   "execution_count": 50,
   "id": "0b852081",
   "metadata": {},
   "outputs": [],
   "source": [
    "# Load scaler\n",
    "load_scaler = pickle.load(open('scaler', 'rb'))"
   ]
  },
  {
   "cell_type": "code",
   "execution_count": 52,
   "id": "91084dd3",
   "metadata": {
    "scrolled": false
   },
   "outputs": [
    {
     "name": "stdout",
     "output_type": "stream",
     "text": [
      "The person does not have diabetes.\n"
     ]
    },
    {
     "name": "stderr",
     "output_type": "stream",
     "text": [
      "C:\\Users\\NAOMI\\anaconda3\\envs\\test\\lib\\site-packages\\sklearn\\base.py:450: UserWarning: X does not have valid feature names, but StandardScaler was fitted with feature names\n",
      "  warnings.warn(\n",
      "C:\\Users\\NAOMI\\anaconda3\\envs\\test\\lib\\site-packages\\sklearn\\base.py:450: UserWarning: X does not have valid feature names, but SGDClassifier was fitted with feature names\n",
      "  warnings.warn(\n"
     ]
    }
   ],
   "source": [
    "# Sample input data for prediction\n",
    "input_data = np.array([77.0,0,0,31.7,6.5,280,4,0]).reshape(1, -1)\n",
    "\n",
    "# Standardize the input data using the same scaler used during training\n",
    "input_data_scaled = scaler.transform(input_data)\n",
    "\n",
    "# Make prediction using the trained SVM model\n",
    "prediction = sgd_classifier.predict(input_data_scaled)\n",
    "\n",
    "# Check the predicted class and output the result\n",
    "if prediction[0] == 0:\n",
    "    print('The person does not have diabetes.')\n",
    "else:\n",
    "    print('The person has diabetes.')\n"
   ]
  },
  {
   "cell_type": "markdown",
   "id": "6b2a03b7",
   "metadata": {},
   "source": [
    "### Deployment"
   ]
  },
  {
   "cell_type": "code",
   "execution_count": 40,
   "id": "ef0868c3",
   "metadata": {},
   "outputs": [],
   "source": [
    "# "
   ]
  }
 ],
 "metadata": {
  "kernelspec": {
   "display_name": "Python 3 (ipykernel)",
   "language": "python",
   "name": "python3"
  },
  "language_info": {
   "codemirror_mode": {
    "name": "ipython",
    "version": 3
   },
   "file_extension": ".py",
   "mimetype": "text/x-python",
   "name": "python",
   "nbconvert_exporter": "python",
   "pygments_lexer": "ipython3",
   "version": "3.9.15"
  }
 },
 "nbformat": 4,
 "nbformat_minor": 5
}
